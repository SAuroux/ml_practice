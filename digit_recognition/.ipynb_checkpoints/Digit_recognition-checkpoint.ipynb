{
 "cells": [
  {
   "cell_type": "markdown",
   "metadata": {},
   "source": [
    "# Digit Recognizer\n",
    "\n",
    "In this notebook, I am experimenting with the MNIST dataset for the Kaggle competition [Digit Recognizer](https://www.kaggle.com/c/digit-recognizer). In particular, I am using this dataset as an opportunity to try out [Tensorflow's high level Python API](https://www.tensorflow.org/get_started/premade_estimators) to generate a deep neural network and I compare its performance with some other popular classification approaches. \n",
    "Furthermore, I came back to this notebook some time later to explore a different path for building deep neural networks using [Keras](https://keras.io/)."
   ]
  },
  {
   "cell_type": "code",
   "execution_count": 1,
   "metadata": {},
   "outputs": [],
   "source": [
    "import warnings\n",
    "warnings.filterwarnings('ignore')\n",
    "\n",
    "import pandas as pd\n",
    "import numpy as np\n",
    "import matplotlib.pyplot as plt\n",
    "%matplotlib inline\n",
    "import seaborn as sns\n",
    "sns.set()"
   ]
  },
  {
   "cell_type": "markdown",
   "metadata": {},
   "source": [
    "## Data preparation"
   ]
  },
  {
   "cell_type": "code",
   "execution_count": 2,
   "metadata": {},
   "outputs": [
    {
     "ename": "FileNotFoundError",
     "evalue": "[Errno 2] File train.csv does not exist: 'train.csv'",
     "output_type": "error",
     "traceback": [
      "\u001b[1;31m---------------------------------------------------------------------------\u001b[0m",
      "\u001b[1;31mFileNotFoundError\u001b[0m                         Traceback (most recent call last)",
      "\u001b[1;32m<ipython-input-2-e46d489488cc>\u001b[0m in \u001b[0;36m<module>\u001b[1;34m\u001b[0m\n\u001b[1;32m----> 1\u001b[1;33m \u001b[0mtrain\u001b[0m \u001b[1;33m=\u001b[0m \u001b[0mpd\u001b[0m\u001b[1;33m.\u001b[0m\u001b[0mread_csv\u001b[0m\u001b[1;33m(\u001b[0m\u001b[1;34m\"train.csv\"\u001b[0m\u001b[1;33m)\u001b[0m\u001b[1;33m\u001b[0m\u001b[1;33m\u001b[0m\u001b[0m\n\u001b[0m\u001b[0;32m      2\u001b[0m \u001b[0mtest\u001b[0m \u001b[1;33m=\u001b[0m \u001b[0mpd\u001b[0m\u001b[1;33m.\u001b[0m\u001b[0mread_csv\u001b[0m\u001b[1;33m(\u001b[0m\u001b[1;34m\"test.csv\"\u001b[0m\u001b[1;33m)\u001b[0m\u001b[1;33m\u001b[0m\u001b[1;33m\u001b[0m\u001b[0m\n\u001b[0;32m      3\u001b[0m \u001b[0mtrain\u001b[0m\u001b[1;33m.\u001b[0m\u001b[0minfo\u001b[0m\u001b[1;33m(\u001b[0m\u001b[1;33m)\u001b[0m\u001b[1;33m\u001b[0m\u001b[1;33m\u001b[0m\u001b[0m\n",
      "\u001b[1;32mC:\\ProgramData\\Anaconda3\\lib\\site-packages\\pandas\\io\\parsers.py\u001b[0m in \u001b[0;36mparser_f\u001b[1;34m(filepath_or_buffer, sep, delimiter, header, names, index_col, usecols, squeeze, prefix, mangle_dupe_cols, dtype, engine, converters, true_values, false_values, skipinitialspace, skiprows, skipfooter, nrows, na_values, keep_default_na, na_filter, verbose, skip_blank_lines, parse_dates, infer_datetime_format, keep_date_col, date_parser, dayfirst, cache_dates, iterator, chunksize, compression, thousands, decimal, lineterminator, quotechar, quoting, doublequote, escapechar, comment, encoding, dialect, error_bad_lines, warn_bad_lines, delim_whitespace, low_memory, memory_map, float_precision)\u001b[0m\n\u001b[0;32m    674\u001b[0m         )\n\u001b[0;32m    675\u001b[0m \u001b[1;33m\u001b[0m\u001b[0m\n\u001b[1;32m--> 676\u001b[1;33m         \u001b[1;32mreturn\u001b[0m \u001b[0m_read\u001b[0m\u001b[1;33m(\u001b[0m\u001b[0mfilepath_or_buffer\u001b[0m\u001b[1;33m,\u001b[0m \u001b[0mkwds\u001b[0m\u001b[1;33m)\u001b[0m\u001b[1;33m\u001b[0m\u001b[1;33m\u001b[0m\u001b[0m\n\u001b[0m\u001b[0;32m    677\u001b[0m \u001b[1;33m\u001b[0m\u001b[0m\n\u001b[0;32m    678\u001b[0m     \u001b[0mparser_f\u001b[0m\u001b[1;33m.\u001b[0m\u001b[0m__name__\u001b[0m \u001b[1;33m=\u001b[0m \u001b[0mname\u001b[0m\u001b[1;33m\u001b[0m\u001b[1;33m\u001b[0m\u001b[0m\n",
      "\u001b[1;32mC:\\ProgramData\\Anaconda3\\lib\\site-packages\\pandas\\io\\parsers.py\u001b[0m in \u001b[0;36m_read\u001b[1;34m(filepath_or_buffer, kwds)\u001b[0m\n\u001b[0;32m    446\u001b[0m \u001b[1;33m\u001b[0m\u001b[0m\n\u001b[0;32m    447\u001b[0m     \u001b[1;31m# Create the parser.\u001b[0m\u001b[1;33m\u001b[0m\u001b[1;33m\u001b[0m\u001b[1;33m\u001b[0m\u001b[0m\n\u001b[1;32m--> 448\u001b[1;33m     \u001b[0mparser\u001b[0m \u001b[1;33m=\u001b[0m \u001b[0mTextFileReader\u001b[0m\u001b[1;33m(\u001b[0m\u001b[0mfp_or_buf\u001b[0m\u001b[1;33m,\u001b[0m \u001b[1;33m**\u001b[0m\u001b[0mkwds\u001b[0m\u001b[1;33m)\u001b[0m\u001b[1;33m\u001b[0m\u001b[1;33m\u001b[0m\u001b[0m\n\u001b[0m\u001b[0;32m    449\u001b[0m \u001b[1;33m\u001b[0m\u001b[0m\n\u001b[0;32m    450\u001b[0m     \u001b[1;32mif\u001b[0m \u001b[0mchunksize\u001b[0m \u001b[1;32mor\u001b[0m \u001b[0miterator\u001b[0m\u001b[1;33m:\u001b[0m\u001b[1;33m\u001b[0m\u001b[1;33m\u001b[0m\u001b[0m\n",
      "\u001b[1;32mC:\\ProgramData\\Anaconda3\\lib\\site-packages\\pandas\\io\\parsers.py\u001b[0m in \u001b[0;36m__init__\u001b[1;34m(self, f, engine, **kwds)\u001b[0m\n\u001b[0;32m    878\u001b[0m             \u001b[0mself\u001b[0m\u001b[1;33m.\u001b[0m\u001b[0moptions\u001b[0m\u001b[1;33m[\u001b[0m\u001b[1;34m\"has_index_names\"\u001b[0m\u001b[1;33m]\u001b[0m \u001b[1;33m=\u001b[0m \u001b[0mkwds\u001b[0m\u001b[1;33m[\u001b[0m\u001b[1;34m\"has_index_names\"\u001b[0m\u001b[1;33m]\u001b[0m\u001b[1;33m\u001b[0m\u001b[1;33m\u001b[0m\u001b[0m\n\u001b[0;32m    879\u001b[0m \u001b[1;33m\u001b[0m\u001b[0m\n\u001b[1;32m--> 880\u001b[1;33m         \u001b[0mself\u001b[0m\u001b[1;33m.\u001b[0m\u001b[0m_make_engine\u001b[0m\u001b[1;33m(\u001b[0m\u001b[0mself\u001b[0m\u001b[1;33m.\u001b[0m\u001b[0mengine\u001b[0m\u001b[1;33m)\u001b[0m\u001b[1;33m\u001b[0m\u001b[1;33m\u001b[0m\u001b[0m\n\u001b[0m\u001b[0;32m    881\u001b[0m \u001b[1;33m\u001b[0m\u001b[0m\n\u001b[0;32m    882\u001b[0m     \u001b[1;32mdef\u001b[0m \u001b[0mclose\u001b[0m\u001b[1;33m(\u001b[0m\u001b[0mself\u001b[0m\u001b[1;33m)\u001b[0m\u001b[1;33m:\u001b[0m\u001b[1;33m\u001b[0m\u001b[1;33m\u001b[0m\u001b[0m\n",
      "\u001b[1;32mC:\\ProgramData\\Anaconda3\\lib\\site-packages\\pandas\\io\\parsers.py\u001b[0m in \u001b[0;36m_make_engine\u001b[1;34m(self, engine)\u001b[0m\n\u001b[0;32m   1112\u001b[0m     \u001b[1;32mdef\u001b[0m \u001b[0m_make_engine\u001b[0m\u001b[1;33m(\u001b[0m\u001b[0mself\u001b[0m\u001b[1;33m,\u001b[0m \u001b[0mengine\u001b[0m\u001b[1;33m=\u001b[0m\u001b[1;34m\"c\"\u001b[0m\u001b[1;33m)\u001b[0m\u001b[1;33m:\u001b[0m\u001b[1;33m\u001b[0m\u001b[1;33m\u001b[0m\u001b[0m\n\u001b[0;32m   1113\u001b[0m         \u001b[1;32mif\u001b[0m \u001b[0mengine\u001b[0m \u001b[1;33m==\u001b[0m \u001b[1;34m\"c\"\u001b[0m\u001b[1;33m:\u001b[0m\u001b[1;33m\u001b[0m\u001b[1;33m\u001b[0m\u001b[0m\n\u001b[1;32m-> 1114\u001b[1;33m             \u001b[0mself\u001b[0m\u001b[1;33m.\u001b[0m\u001b[0m_engine\u001b[0m \u001b[1;33m=\u001b[0m \u001b[0mCParserWrapper\u001b[0m\u001b[1;33m(\u001b[0m\u001b[0mself\u001b[0m\u001b[1;33m.\u001b[0m\u001b[0mf\u001b[0m\u001b[1;33m,\u001b[0m \u001b[1;33m**\u001b[0m\u001b[0mself\u001b[0m\u001b[1;33m.\u001b[0m\u001b[0moptions\u001b[0m\u001b[1;33m)\u001b[0m\u001b[1;33m\u001b[0m\u001b[1;33m\u001b[0m\u001b[0m\n\u001b[0m\u001b[0;32m   1115\u001b[0m         \u001b[1;32melse\u001b[0m\u001b[1;33m:\u001b[0m\u001b[1;33m\u001b[0m\u001b[1;33m\u001b[0m\u001b[0m\n\u001b[0;32m   1116\u001b[0m             \u001b[1;32mif\u001b[0m \u001b[0mengine\u001b[0m \u001b[1;33m==\u001b[0m \u001b[1;34m\"python\"\u001b[0m\u001b[1;33m:\u001b[0m\u001b[1;33m\u001b[0m\u001b[1;33m\u001b[0m\u001b[0m\n",
      "\u001b[1;32mC:\\ProgramData\\Anaconda3\\lib\\site-packages\\pandas\\io\\parsers.py\u001b[0m in \u001b[0;36m__init__\u001b[1;34m(self, src, **kwds)\u001b[0m\n\u001b[0;32m   1889\u001b[0m         \u001b[0mkwds\u001b[0m\u001b[1;33m[\u001b[0m\u001b[1;34m\"usecols\"\u001b[0m\u001b[1;33m]\u001b[0m \u001b[1;33m=\u001b[0m \u001b[0mself\u001b[0m\u001b[1;33m.\u001b[0m\u001b[0musecols\u001b[0m\u001b[1;33m\u001b[0m\u001b[1;33m\u001b[0m\u001b[0m\n\u001b[0;32m   1890\u001b[0m \u001b[1;33m\u001b[0m\u001b[0m\n\u001b[1;32m-> 1891\u001b[1;33m         \u001b[0mself\u001b[0m\u001b[1;33m.\u001b[0m\u001b[0m_reader\u001b[0m \u001b[1;33m=\u001b[0m \u001b[0mparsers\u001b[0m\u001b[1;33m.\u001b[0m\u001b[0mTextReader\u001b[0m\u001b[1;33m(\u001b[0m\u001b[0msrc\u001b[0m\u001b[1;33m,\u001b[0m \u001b[1;33m**\u001b[0m\u001b[0mkwds\u001b[0m\u001b[1;33m)\u001b[0m\u001b[1;33m\u001b[0m\u001b[1;33m\u001b[0m\u001b[0m\n\u001b[0m\u001b[0;32m   1892\u001b[0m         \u001b[0mself\u001b[0m\u001b[1;33m.\u001b[0m\u001b[0munnamed_cols\u001b[0m \u001b[1;33m=\u001b[0m \u001b[0mself\u001b[0m\u001b[1;33m.\u001b[0m\u001b[0m_reader\u001b[0m\u001b[1;33m.\u001b[0m\u001b[0munnamed_cols\u001b[0m\u001b[1;33m\u001b[0m\u001b[1;33m\u001b[0m\u001b[0m\n\u001b[0;32m   1893\u001b[0m \u001b[1;33m\u001b[0m\u001b[0m\n",
      "\u001b[1;32mpandas\\_libs\\parsers.pyx\u001b[0m in \u001b[0;36mpandas._libs.parsers.TextReader.__cinit__\u001b[1;34m()\u001b[0m\n",
      "\u001b[1;32mpandas\\_libs\\parsers.pyx\u001b[0m in \u001b[0;36mpandas._libs.parsers.TextReader._setup_parser_source\u001b[1;34m()\u001b[0m\n",
      "\u001b[1;31mFileNotFoundError\u001b[0m: [Errno 2] File train.csv does not exist: 'train.csv'"
     ]
    }
   ],
   "source": [
    "train = pd.read_csv(\"train.csv\")\n",
    "test = pd.read_csv(\"test.csv\")\n",
    "train.info()"
   ]
  },
  {
   "cell_type": "code",
   "execution_count": 3,
   "metadata": {},
   "outputs": [
    {
     "data": {
      "image/png": "[encoded data removed]",
      "text/plain": [
       "<Figure size 432x288 with 1 Axes>"
      ]
     },
     "metadata": {},
     "output_type": "display_data"
    }
   ],
   "source": [
    "X_train = train.drop(\"label\", axis=1)\n",
    "y_train = train[\"label\"]\n",
    "del train # freeing memory\n",
    "g = sns.countplot(y_train)"
   ]
  },
  {
   "cell_type": "markdown",
   "metadata": {},
   "source": [
    "Great, the distribution of training samples is approximately uniform, which is an important prerequisite."
   ]
  },
  {
   "cell_type": "markdown",
   "metadata": {},
   "source": [
    "## Modeling: Common sklearn classifiers\n",
    "\n",
    "I will first start modelling without any modification of the data and just see what happens. For the common classification algorithms, I will use k-fold cross validation with 5 splits to evaluate the different approaches."
   ]
  },
  {
   "cell_type": "code",
   "execution_count": 2,
   "metadata": {},
   "outputs": [],
   "source": [
    "from sklearn.model_selection import KFold, cross_val_score, train_test_split\n",
    "from sklearn.metrics import accuracy_score\n",
    "from sklearn.linear_model import LogisticRegression\n",
    "from sklearn.neighbors import KNeighborsClassifier\n",
    "from sklearn.tree import DecisionTreeClassifier\n",
    "from sklearn.svm import SVC\n",
    "from sklearn.ensemble import RandomForestClassifier"
   ]
  },
  {
   "cell_type": "code",
   "execution_count": 10,
   "metadata": {},
   "outputs": [
    {
     "name": "stderr",
     "output_type": "stream",
     "text": [
      "[Parallel(n_jobs=2)]: Done   5 out of   5 | elapsed: 104.5min finished\n",
      "[Parallel(n_jobs=2)]: Done   5 out of   5 | elapsed: 21.8min finished\n",
      "[Parallel(n_jobs=2)]: Done   5 out of   5 | elapsed:   31.3s finished\n",
      "[Parallel(n_jobs=2)]: Done   5 out of   5 | elapsed: 129.8min finished\n",
      "[Parallel(n_jobs=2)]: Done   5 out of   5 | elapsed:   12.5s finished\n"
     ]
    }
   ],
   "source": [
    "random_state = 12\n",
    "cv = KFold(n_splits=5)\n",
    "\n",
    "classifiers = []\n",
    "classifiers.append(LogisticRegression(random_state = random_state))\n",
    "classifiers.append(KNeighborsClassifier())\n",
    "classifiers.append(DecisionTreeClassifier(random_state=random_state))\n",
    "classifiers.append(SVC(random_state=random_state))\n",
    "classifiers.append(RandomForestClassifier(random_state=random_state))\n",
    "\n",
    "cv_results = []\n",
    "for classifier in classifiers :\n",
    "    cv_results.append(cross_val_score(classifier, X_train, y=y_train, scoring=\"accuracy\", cv = cv, n_jobs=2, verbose=1))\n",
    "\n",
    "cv_means = []\n",
    "cv_std = []\n",
    "for cv_result in cv_results:\n",
    "    cv_means.append(cv_result.mean())\n",
    "    cv_std.append(cv_result.std())"
   ]
  },
  {
   "cell_type": "code",
   "execution_count": 11,
   "metadata": {},
   "outputs": [
    {
     "data": {
      "image/png": "[encoded data removed]",
      "text/plain": [
       "<Figure size 432x288 with 1 Axes>"
      ]
     },
     "metadata": {},
     "output_type": "display_data"
    }
   ],
   "source": [
    "names = ['Logistic regression', 'k-Nearest Neighbors', 'Decision Tree', 'Support Vector Machine', 'Random Forest']\n",
    "    \n",
    "cv_res = pd.DataFrame({'name': names, 'mean': cv_means, 'std': cv_std})\n",
    "cv_res.plot(kind='barh', x='name', y='mean', xerr='std', legend=False)\n",
    "plt.ylabel('')\n",
    "plt.show()"
   ]
  },
  {
   "cell_type": "markdown",
   "metadata": {},
   "source": [
    "The results above are certainly astonishing. Especially the Support Vector Machien Classifier performs extremely bad with an accuracy in the range of random guessing! It is obvious that the data input format is not suitable for the SVC.\n",
    "\n",
    "However, all other classifiers do a decent job. Most notably, the k-nearest neighbors approach gives a pretty good accuracy score. For this reason, I will use this approach later to compare its Kaggle test score with the one of the deep neural network. In addition, I will do the same for the Random Forest classifier, which provides a decent result in very short runtime.\n",
    "\n",
    "Certainly, there are ways to improve the results from above, including but not limited to normalizing the features to the range [0,1] or transforming the features, e.g. by making the data binary (every value > 0 could be mapped to 1). \n",
    "\n",
    "However, looking at this is out of scope for me here. Instead, I will fit a k-nearest neighbors model to the training data as announced above (using the default parameter k=5)."
   ]
  },
  {
   "cell_type": "code",
   "execution_count": 15,
   "metadata": {},
   "outputs": [
    {
     "data": {
      "text/plain": [
       "KNeighborsClassifier(algorithm='auto', leaf_size=30, metric='minkowski',\n",
       "           metric_params=None, n_jobs=1, n_neighbors=5, p=2,\n",
       "           weights='uniform')"
      ]
     },
     "execution_count": 15,
     "metadata": {},
     "output_type": "execute_result"
    }
   ],
   "source": [
    "knn = KNeighborsClassifier()\n",
    "knn.fit(X_train, y_train)"
   ]
  },
  {
   "cell_type": "code",
   "execution_count": 16,
   "metadata": {},
   "outputs": [
    {
     "name": "stdout",
     "output_type": "stream",
     "text": [
      "KNN training accuracy: 0.9791428571428571\n"
     ]
    }
   ],
   "source": [
    "print('KNN training accuracy:', accuracy_score(y_train, knn.predict(X_train)))"
   ]
  },
  {
   "cell_type": "code",
   "execution_count": 17,
   "metadata": {},
   "outputs": [],
   "source": [
    "def save_prediction(predictions, prefix):\n",
    "    ids = pd.Series(range(1,28001),name = \"ImageId\")\n",
    "    pred = pd.Series(predictions, name=\"Label\").astype(int)\n",
    "    submission = pd.concat([ids, pred],axis=1)\n",
    "    submission.to_csv(prefix + '_submission.csv', index=False)\n",
    "\n",
    "knn_predictions = knn.predict(test)\n",
    "save_prediction(knn_predictions, 'knn')"
   ]
  },
  {
   "cell_type": "markdown",
   "metadata": {},
   "source": [
    "The model scored 96,8% accuracy on the Kaggle test set, nice! Now I have a decent benchmark for the deep neural network. Next comes the Random Forest classifier."
   ]
  },
  {
   "cell_type": "code",
   "execution_count": 26,
   "metadata": {},
   "outputs": [
    {
     "name": "stdout",
     "output_type": "stream",
     "text": [
      "Random Forest training accuracy: 0.9990476190476191\n"
     ]
    }
   ],
   "source": [
    "rf = RandomForestClassifier(n_estimators=10)\n",
    "rf.fit(X_train, y_train)\n",
    "print('Random Forest training accuracy:', accuracy_score(y_train, rf.predict(X_train)))\n",
    "rf_predictions = rf.predict(test)\n",
    "save_prediction(rf_predictions, 'rf')"
   ]
  },
  {
   "cell_type": "markdown",
   "metadata": {},
   "source": [
    "Quite obviously, the Reandom Forest classifier overfits to the training data, which is confirmed by the Kaggle test score of 93,95%. This actually comes to no surprise, since I did not do any hyperparameter tuning for the classifier. For my scope here, this is ok, since I simply wanted another comparison for the Deep Neural Network, which I will deal with next. Of course, when considering both above classifiers as viable solutions approaches, more hyperparameter tuning and cross validation would be mandatory!"
   ]
  },
  {
   "cell_type": "markdown",
   "metadata": {},
   "source": [
    "## Modeling: Tensorflow Deep Neural Network Classifier\n",
    "\n",
    "Now, I will proceed to build a deep neural network with Tensorflow! After experimenting with a few parameters, I eventually decided to train the model with a dropout of 0.05, a batch size of 50 and 500 epochs (one epoch corresponds to traversing the entire training data once)."
   ]
  },
  {
   "cell_type": "code",
   "execution_count": null,
   "metadata": {},
   "outputs": [],
   "source": [
    "import tensorflow as tf\n",
    "tf.logging.set_verbosity(tf.logging.ERROR) # to disable Tensorflow's extensive INFO messages."
   ]
  },
  {
   "cell_type": "code",
   "execution_count": 24,
   "metadata": {},
   "outputs": [],
   "source": [
    "feature_columns = [tf.feature_column.numeric_column(\"x\", shape=[784])]\n",
    "train_input_tf = tf.estimator.inputs.numpy_input_fn(x={'x': X_train.values},  y=y_train, num_epochs=500, \n",
    "                                                    batch_size=50, shuffle=True)\n",
    "test_input_tf = tf.estimator.inputs.numpy_input_fn(x={'x': X_train.values},  y=y_train, num_epochs=1, shuffle=False)\n",
    "pred_input_tf = tf.estimator.inputs.numpy_input_fn(x={'x': test.values}, num_epochs=1, shuffle=False)"
   ]
  },
  {
   "cell_type": "code",
   "execution_count": 36,
   "metadata": {},
   "outputs": [
    {
     "name": "stdout",
     "output_type": "stream",
     "text": [
      "Training the DNN classifier for 500 epochs:\n",
      "DNN accuracy (50 epochs: {'accuracy': 0.9604762, 'average_loss': 0.16133319, 'loss': 20.595726, 'global_step': 42000}\n",
      "DNN accuracy (100 epochs: {'accuracy': 0.9862143, 'average_loss': 0.050473846, 'loss': 6.44347, 'global_step': 84000}\n",
      "DNN accuracy (150 epochs: {'accuracy': 0.9926905, 'average_loss': 0.027621033, 'loss': 3.5260892, 'global_step': 126000}\n",
      "DNN accuracy (200 epochs: {'accuracy': 0.9954524, 'average_loss': 0.018334456, 'loss': 2.3405688, 'global_step': 168000}\n",
      "DNN accuracy (250 epochs: {'accuracy': 0.9967381, 'average_loss': 0.014126305, 'loss': 1.8033581, 'global_step': 210000}\n",
      "DNN accuracy (300 epochs: {'accuracy': 0.9970476, 'average_loss': 0.0113380505, 'loss': 1.4474107, 'global_step': 252000}\n",
      "DNN accuracy (350 epochs: {'accuracy': 0.99785715, 'average_loss': 0.008951555, 'loss': 1.1427517, 'global_step': 294000}\n",
      "DNN accuracy (400 epochs: {'accuracy': 0.9982619, 'average_loss': 0.0075682495, 'loss': 0.9661595, 'global_step': 336000}\n",
      "DNN accuracy (450 epochs: {'accuracy': 0.9986905, 'average_loss': 0.0058624563, 'loss': 0.74839866, 'global_step': 378000}\n",
      "DNN accuracy (500 epochs: {'accuracy': 0.998619, 'average_loss': 0.0055118026, 'loss': 0.7036344, 'global_step': 420000}\n"
     ]
    }
   ],
   "source": [
    "dnn = tf.estimator.DNNClassifier(feature_columns=feature_columns, hidden_units=[128, 32], n_classes=10, dropout=0.05)\n",
    "\n",
    "pred_dnn = {} # to save intermediate prediction results\n",
    "\n",
    "print(\"Training the DNN classifier for 500 epochs:\")\n",
    "for i in range(10):\n",
    "    dnn.train(input_fn=train_input_tf, steps=42000) # 84000 corresponds to 100 epochs (42000 samples / batch_size)\n",
    "    score = dnn.evaluate(input_fn=test_input_tf)\n",
    "    print(\"DNN accuracy ({} epochs: {}\".format(50*(i+1), score))\n",
    "    dnn_test_results = dnn.predict(input_fn=pred_input_tf)\n",
    "    pred_dnn[i] = [r for r in dnn_test_results]"
   ]
  },
  {
   "cell_type": "markdown",
   "metadata": {},
   "source": [
    "Wow, 99,86 % accuracy, not bad at all! However, this suggest that the DNN might also be overfitting to the training data. Time to make predictions for the Kaggle test data:"
   ]
  },
  {
   "cell_type": "code",
   "execution_count": 38,
   "metadata": {},
   "outputs": [],
   "source": [
    "pred_input_tf = tf.estimator.inputs.numpy_input_fn(x={'x': test.values}, num_epochs=1, shuffle=False)\n",
    "dnn_test_results = dnn.predict(input_fn=pred_input_tf)\n",
    "dnn_predictions = np.array([np.argmax(r['probabilities']) for r in dnn_test_results])\n",
    "save_prediction(dnn_predictions, 'dnn')"
   ]
  },
  {
   "cell_type": "markdown",
   "metadata": {},
   "source": [
    "The model scored 95,84% at the Kaggle competition. This is not bad, but also below the score achieved by the KNN classifier. Definitely, the model is not trained ideally. However, I consider this a success for a first experiment with a Tensorflow DNN and will leave a more elaborate examination with neural networks as future work for myself.\n",
    "\n",
    "Nonetheless, I want to take a last step and try to improve the Kaggle test score by combining the intermediate predictions that I had saved while training above after each pack of 50 epochs:"
   ]
  },
  {
   "cell_type": "code",
   "execution_count": 39,
   "metadata": {},
   "outputs": [],
   "source": [
    "dnn_probabilities = np.array([[r['probabilities'] for r in pred_dnn[i]] for i in range(10)])\n",
    "dnn_combined_proba = np.sum(p for p in dnn_probabilities)/10\n",
    "dnn_combined_predictions = np.array([np.argmax(r) for r in dnn_combined_proba])\n",
    "save_prediction(dnn_combined_predictions, 'dnn_combined')"
   ]
  },
  {
   "cell_type": "markdown",
   "metadata": {},
   "source": [
    "The resulting accuracy on the Kaggle test set was 96,21%! Still not as good as the KNN classifier, but at least an improvement. Definitely, building and training neural networks is a topic that I will look into deeper in the future!"
   ]
  },
  {
   "cell_type": "code",
   "execution_count": null,
   "metadata": {},
   "outputs": [],
   "source": []
  }
 ],
 "metadata": {
  "kernelspec": {
   "display_name": "Python 3",
   "language": "python",
   "name": "python3"
  },
  "language_info": {
   "codemirror_mode": {
    "name": "ipython",
    "version": 3
   },
   "file_extension": ".py",
   "mimetype": "text/x-python",
   "name": "python",
   "nbconvert_exporter": "python",
   "pygments_lexer": "ipython3",
   "version": "3.6.10"
  }
 },
 "nbformat": 4,
 "nbformat_minor": 4
}

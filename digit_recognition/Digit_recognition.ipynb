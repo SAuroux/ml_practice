{
 "cells": [
  {
   "cell_type": "markdown",
   "metadata": {},
   "source": [
    "# Digit Recognizer\n",
    "\n",
    "In this notebook, I am experimenting with the MNIST dataset for the Kaggle competition [Digit Recognizer](https://www.kaggle.com/c/digit-recognizer). In particular, I am using this dataset as an opportunity to try out [Tensorflow's high level Python API](https://www.tensorflow.org/get_started/premade_estimators) to generate a deep neural network and I compare its performance with some other popular classification approaches. \n",
    "Furthermore, I came back to this notebook some time later to explore a different path for building deep neural networks using [Keras](https://keras.io/), a very popular high-level neural networks API, written in Python and capable of running on top of Deep Learning libraries like TensorFlow."
   ]
  },
  {
   "cell_type": "code",
   "execution_count": 1,
   "metadata": {},
   "outputs": [],
   "source": [
    "import warnings\n",
    "warnings.filterwarnings('ignore')\n",
    "\n",
    "import pandas as pd\n",
    "import numpy as np\n",
    "import matplotlib.pyplot as plt\n",
    "%matplotlib inline\n",
    "import seaborn as sns\n",
    "sns.set()"
   ]
  },
  {
   "cell_type": "markdown",
   "metadata": {},
   "source": [
    "## Data preparation"
   ]
  },
  {
   "cell_type": "code",
   "execution_count": 2,
   "metadata": {},
   "outputs": [
    {
     "name": "stdout",
     "output_type": "stream",
     "text": [
      "<class 'pandas.core.frame.DataFrame'>\n",
      "RangeIndex: 42000 entries, 0 to 41999\n",
      "Columns: 785 entries, label to pixel783\n",
      "dtypes: int64(785)\n",
      "memory usage: 251.5 MB\n"
     ]
    }
   ],
   "source": [
    "train = pd.read_csv(\"train.csv\")\n",
    "test = pd.read_csv(\"test.csv\")\n",
    "train.info()"
   ]
  },
  {
   "cell_type": "code",
   "execution_count": 3,
   "metadata": {},
   "outputs": [],
   "source": [
    "# splitting features and labels\n",
    "X_train = train.drop(\"label\", axis=1)\n",
    "y_train = train[\"label\"]\n",
    "del train # freeing memory"
   ]
  },
  {
   "cell_type": "code",
   "execution_count": 4,
   "metadata": {},
   "outputs": [
    {
     "data": {
      "image/png": "[encoded data removed]",
      "text/plain": [
       "<Figure size 432x288 with 1 Axes>"
      ]
     },
     "metadata": {},
     "output_type": "display_data"
    }
   ],
   "source": [
    "g = sns.countplot(y_train, palette='Blues')"
   ]
  },
  {
   "cell_type": "markdown",
   "metadata": {},
   "source": [
    "Great, the distribution of training samples is approximately uniform, which is an important prerequisite."
   ]
  },
  {
   "cell_type": "markdown",
   "metadata": {},
   "source": [
    "## Modeling: Common sklearn classifiers\n",
    "\n",
    "In the following, I will use use 6-fold cross validation evaluate five well-knowns classification algorithms for the MNIST dataset."
   ]
  },
  {
   "cell_type": "code",
   "execution_count": 5,
   "metadata": {},
   "outputs": [],
   "source": [
    "from sklearn.model_selection import KFold, cross_val_score, train_test_split\n",
    "from sklearn.metrics import accuracy_score\n",
    "from sklearn.preprocessing import StandardScaler\n",
    "\n",
    "from sklearn.tree import DecisionTreeClassifier\n",
    "from sklearn.neighbors import KNeighborsClassifier\n",
    "from sklearn.naive_bayes import GaussianNB\n",
    "from sklearn.discriminant_analysis import QuadraticDiscriminantAnalysis\n",
    "from sklearn.ensemble import RandomForestClassifier"
   ]
  },
  {
   "cell_type": "code",
   "execution_count": 6,
   "metadata": {},
   "outputs": [
    {
     "name": "stderr",
     "output_type": "stream",
     "text": [
      "[Parallel(n_jobs=3)]: Using backend LokyBackend with 3 concurrent workers.\n",
      "[Parallel(n_jobs=3)]: Done   6 out of   6 | elapsed:   20.1s finished\n",
      "[Parallel(n_jobs=3)]: Using backend LokyBackend with 3 concurrent workers.\n",
      "[Parallel(n_jobs=3)]: Done   6 out of   6 | elapsed: 14.7min finished\n",
      "[Parallel(n_jobs=3)]: Using backend LokyBackend with 3 concurrent workers.\n",
      "[Parallel(n_jobs=3)]: Done   6 out of   6 | elapsed:    4.1s finished\n",
      "[Parallel(n_jobs=3)]: Using backend LokyBackend with 3 concurrent workers.\n",
      "[Parallel(n_jobs=3)]: Done   6 out of   6 | elapsed:   24.7s finished\n",
      "[Parallel(n_jobs=3)]: Using backend LokyBackend with 3 concurrent workers.\n",
      "[Parallel(n_jobs=3)]: Done   6 out of   6 | elapsed:  1.8min finished\n"
     ]
    }
   ],
   "source": [
    "classifiers = []\n",
    "classifiers.append(DecisionTreeClassifier(min_samples_leaf=5, random_state=12))\n",
    "classifiers.append(KNeighborsClassifier(n_neighbors=5))\n",
    "classifiers.append(GaussianNB())\n",
    "classifiers.append(QuadraticDiscriminantAnalysis())\n",
    "classifiers.append(RandomForestClassifier(n_estimators=200, random_state=12))\n",
    "\n",
    "cv_results = []\n",
    "for classifier in classifiers :\n",
    "    cv_results.append(cross_val_score(classifier, X_train, y=y_train, scoring=\"accuracy\", cv=6, n_jobs=3, verbose=2))\n",
    "\n",
    "cv_means = []\n",
    "cv_std = []\n",
    "for cv_result in cv_results:\n",
    "    cv_means.append(cv_result.mean())\n",
    "    cv_std.append(cv_result.std())"
   ]
  },
  {
   "cell_type": "code",
   "execution_count": 7,
   "metadata": {},
   "outputs": [
    {
     "data": {
      "image/png": "[encoded data removed]",
      "text/plain": [
       "<Figure size 432x288 with 1 Axes>"
      ]
     },
     "metadata": {},
     "output_type": "display_data"
    }
   ],
   "source": [
    "names = ['Decision Tree', 'k-Nearest Neighbors', 'Naive Bayes', 'Quadratic Discriminant Analysis', 'Random Forest']\n",
    "    \n",
    "cv_res = pd.DataFrame({'name': names, 'mean': cv_means, 'std': cv_std})\n",
    "cv_res.plot(kind='barh', x='name', y='mean', xerr='std', legend=False)\n",
    "plt.ylabel('')\n",
    "plt.show()"
   ]
  },
  {
   "cell_type": "markdown",
   "metadata": {},
   "source": [
    "The results above are certainly not astonishing. Of course, a lot could be improved by tuning hyperparameters, but that is outside the scope of this notebook. \n",
    "\n",
    "However, the k-nearest neighbors and Random Forest approaches give a pretty decent accuracy score. For this reason, I will use both approaches later to compare their Kaggle test score with the one of the Tensorflow deep neural network. "
   ]
  },
  {
   "cell_type": "code",
   "execution_count": 8,
   "metadata": {},
   "outputs": [
    {
     "data": {
      "text/plain": [
       "KNeighborsClassifier(algorithm='auto', leaf_size=30, metric='minkowski',\n",
       "                     metric_params=None, n_jobs=None, n_neighbors=5, p=2,\n",
       "                     weights='uniform')"
      ]
     },
     "execution_count": 8,
     "metadata": {},
     "output_type": "execute_result"
    }
   ],
   "source": [
    "knn = KNeighborsClassifier()\n",
    "knn.fit(X_train, y_train)"
   ]
  },
  {
   "cell_type": "code",
   "execution_count": 9,
   "metadata": {},
   "outputs": [
    {
     "name": "stdout",
     "output_type": "stream",
     "text": [
      "KNN training accuracy: 0.9791428571428571\n"
     ]
    }
   ],
   "source": [
    "print('KNN training accuracy:', accuracy_score(y_train, knn.predict(X_train)))"
   ]
  },
  {
   "cell_type": "code",
   "execution_count": 10,
   "metadata": {},
   "outputs": [],
   "source": [
    "def save_prediction(predictions, prefix):\n",
    "    ids = pd.Series(range(1,28001),name = \"ImageId\")\n",
    "    pred = pd.Series(predictions, name=\"Label\").astype(int)\n",
    "    submission = pd.concat([ids, pred],axis=1)\n",
    "    submission.to_csv(prefix + '_submission.csv', index=False)\n",
    "\n",
    "knn_predictions = knn.predict(test)\n",
    "save_prediction(knn_predictions, 'knn')"
   ]
  },
  {
   "cell_type": "markdown",
   "metadata": {},
   "source": [
    "The model scored 96,8% accuracy on the Kaggle test set, good! Now I already have a first benchmark for upcoming deep neural networks. Next comes the Random Forest classifier."
   ]
  },
  {
   "cell_type": "code",
   "execution_count": 11,
   "metadata": {},
   "outputs": [
    {
     "name": "stdout",
     "output_type": "stream",
     "text": [
      "Random Forest training accuracy: 1.0\n"
     ]
    }
   ],
   "source": [
    "rf = RandomForestClassifier(n_estimators=200)\n",
    "rf.fit(X_train, y_train)\n",
    "print('Random Forest training accuracy:', accuracy_score(y_train, rf.predict(X_train)))"
   ]
  },
  {
   "cell_type": "markdown",
   "metadata": {},
   "source": [
    "Quite obviously, the Reandom Forest classifier massively overfits to the training data without cross validation. As training The model was possible in reasonable time, I will attempt some hypterparameter tuning to improve this."
   ]
  },
  {
   "cell_type": "code",
   "execution_count": 12,
   "metadata": {},
   "outputs": [
    {
     "name": "stdout",
     "output_type": "stream",
     "text": [
      "Fitting 3 folds for each of 50 candidates, totalling 150 fits\n"
     ]
    },
    {
     "name": "stderr",
     "output_type": "stream",
     "text": [
      "[Parallel(n_jobs=-1)]: Using backend LokyBackend with 4 concurrent workers.\n",
      "[Parallel(n_jobs=-1)]: Done  33 tasks      | elapsed:  5.0min\n",
      "[Parallel(n_jobs=-1)]: Done 150 out of 150 | elapsed: 23.5min finished\n"
     ]
    },
    {
     "name": "stdout",
     "output_type": "stream",
     "text": [
      "Best accuracy score: 0.9613333333333333\n",
      "Best parameters: {'n_estimators': 400, 'min_samples_split': 4, 'min_samples_leaf': 2, 'max_features': 'auto', 'max_depth': 20}\n"
     ]
    }
   ],
   "source": [
    "from sklearn.model_selection import RandomizedSearchCV\n",
    "\n",
    "param_grid = {'max_depth': [5, 10, 15, 20], 'max_features': ['auto', 'sqrt'], \n",
    "              'min_samples_leaf': [2, 3, 5], 'min_samples_split': [4, 6, 10], \n",
    "              'n_estimators': [100, 200, 400]}\n",
    "\n",
    "rf_random = RandomizedSearchCV(estimator=RandomForestClassifier(), param_distributions = param_grid, \n",
    "                               n_iter = 50, cv = 3, verbose=2, random_state=12, scoring='accuracy', n_jobs = -1)\n",
    "rf_random.fit(X_train, y_train)\n",
    "\n",
    "print('Best accuracy score:', rf_random.best_score_)\n",
    "print('Best parameters:', rf_random.best_params_)"
   ]
  },
  {
   "cell_type": "code",
   "execution_count": 14,
   "metadata": {},
   "outputs": [],
   "source": [
    "# Generate prediction from best estimator\n",
    "rf_predictions = rf_random.best_estimator_.predict(test)\n",
    "save_prediction(rf_predictions, 'rf')"
   ]
  },
  {
   "cell_type": "markdown",
   "metadata": {},
   "source": [
    "The model scored 96,5% accuracy on the Kaggle test set, great! This provides another good benchmark for subsequent Deep Learning approaches!"
   ]
  },
  {
   "cell_type": "markdown",
   "metadata": {},
   "source": [
    "## Modeling: Tensorflow Deep Neural Network Classifier\n",
    "\n",
    "Now, I will proceed to build a deep neural network with Tensorflow! After experimenting with a few parameters, I eventually decided to train the model with a dropout of 0.05, a batch size of 50 and 500 epochs (one epoch corresponds to traversing the entire training data once)."
   ]
  },
  {
   "cell_type": "code",
   "execution_count": 15,
   "metadata": {},
   "outputs": [],
   "source": [
    "import tensorflow as tf\n",
    "tf.compat.v1.logging.set_verbosity(tf.compat.v1.logging.ERROR) # to disable Tensorflow's extensive INFO messages."
   ]
  },
  {
   "cell_type": "code",
   "execution_count": 16,
   "metadata": {},
   "outputs": [],
   "source": [
    "feature_columns = [tf.feature_column.numeric_column(\"x\", shape=[784])]\n",
    "train_input_tf = tf.compat.v1.estimator.inputs.numpy_input_fn(x={'x': X_train.values},  y=y_train, \n",
    "                                                              num_epochs=500, batch_size=50, shuffle=True)\n",
    "test_input_tf = tf.compat.v1.estimator.inputs.numpy_input_fn(x={'x': X_train.values},  y=y_train, \n",
    "                                                             num_epochs=1, shuffle=False)\n",
    "pred_input_tf = tf.compat.v1.estimator.inputs.numpy_input_fn(x={'x': test.values}, \n",
    "                                                             num_epochs=1, shuffle=False)"
   ]
  },
  {
   "cell_type": "code",
   "execution_count": 17,
   "metadata": {},
   "outputs": [
    {
     "name": "stdout",
     "output_type": "stream",
     "text": [
      "Training the DNN classifier for 500 epochs:\n",
      "DNN accuracy (50 epochs: {'accuracy': 0.9410238, 'average_loss': 0.26284668, 'loss': 33.554893, 'global_step': 42000}\n",
      "DNN accuracy (100 epochs: {'accuracy': 0.98702383, 'average_loss': 0.046676774, 'loss': 5.958737, 'global_step': 84000}\n",
      "DNN accuracy (150 epochs: {'accuracy': 0.99430954, 'average_loss': 0.02092529, 'loss': 2.6713138, 'global_step': 126000}\n",
      "DNN accuracy (200 epochs: {'accuracy': 0.99640477, 'average_loss': 0.014479594, 'loss': 1.8484588, 'global_step': 168000}\n",
      "DNN accuracy (250 epochs: {'accuracy': 0.9975476, 'average_loss': 0.011065093, 'loss': 1.4125651, 'global_step': 210000}\n",
      "DNN accuracy (300 epochs: {'accuracy': 0.99811906, 'average_loss': 0.008507977, 'loss': 1.0861248, 'global_step': 252000}\n",
      "DNN accuracy (350 epochs: {'accuracy': 0.99838096, 'average_loss': 0.007358469, 'loss': 0.93937904, 'global_step': 294000}\n",
      "DNN accuracy (400 epochs: {'accuracy': 0.99857146, 'average_loss': 0.0061754934, 'loss': 0.7883609, 'global_step': 336000}\n",
      "DNN accuracy (450 epochs: {'accuracy': 0.9989762, 'average_loss': 0.0051161773, 'loss': 0.653129, 'global_step': 378000}\n",
      "DNN accuracy (500 epochs: {'accuracy': 0.9990714, 'average_loss': 0.004541216, 'loss': 0.57972974, 'global_step': 420000}\n"
     ]
    }
   ],
   "source": [
    "dnn = tf.compat.v1.estimator.DNNClassifier(feature_columns=feature_columns, \n",
    "                                           hidden_units=[128, 32], n_classes=10, dropout=0.05)\n",
    "\n",
    "pred_dnn = {} # to save intermediate prediction results\n",
    "\n",
    "print(\"Training the DNN classifier for 500 epochs:\")\n",
    "for i in range(10):\n",
    "    dnn.train(input_fn=train_input_tf, steps=42000) # 84000 corresponds to 100 epochs (42000 samples / batch_size)\n",
    "    score = dnn.evaluate(input_fn=test_input_tf)\n",
    "    print(\"DNN accuracy ({} epochs: {}\".format(50*(i+1), score))\n",
    "    dnn_test_results = dnn.predict(input_fn=pred_input_tf)\n",
    "    pred_dnn[i] = [r for r in dnn_test_results]"
   ]
  },
  {
   "cell_type": "markdown",
   "metadata": {},
   "source": [
    "Wow, 99,69 % accuracy, not bad at all! However, this suggest that the DNN might also be overfitting to the training data. Time to make predictions for the Kaggle test data:"
   ]
  },
  {
   "cell_type": "code",
   "execution_count": 18,
   "metadata": {},
   "outputs": [],
   "source": [
    "pred_input_tf = tf.compat.v1.estimator.inputs.numpy_input_fn(x={'x': test.values}, num_epochs=1, shuffle=False)\n",
    "dnn_test_results = dnn.predict(input_fn=pred_input_tf)\n",
    "dnn_predictions = np.array([np.argmax(r['probabilities']) for r in dnn_test_results])\n",
    "save_prediction(dnn_predictions, 'dnn')"
   ]
  },
  {
   "cell_type": "markdown",
   "metadata": {},
   "source": [
    "The model scored 95,84% at the Kaggle competition. This is not bad, but also below the score achieved by the KNN classifier. Definitely, the model is not trained ideally. However, I consider this a success for a first experiment with a Tensorflow DNN and will leave a more elaborate examination with neural networks as future work for myself.\n",
    "\n",
    "Nonetheless, I want to take a last step and try to improve the Kaggle test score by combining the intermediate predictions that I had saved while training above after each pack of 50 epochs:"
   ]
  },
  {
   "cell_type": "code",
   "execution_count": 19,
   "metadata": {},
   "outputs": [],
   "source": [
    "dnn_probabilities = np.array([[r['probabilities'] for r in pred_dnn[i]] for i in range(10)])\n",
    "dnn_combined_proba = np.sum(p for p in dnn_probabilities)/10\n",
    "dnn_combined_predictions = np.array([np.argmax(r) for r in dnn_combined_proba])\n",
    "save_prediction(dnn_combined_predictions, 'dnn_combined')"
   ]
  },
  {
   "cell_type": "markdown",
   "metadata": {},
   "source": [
    "The resulting accuracy on the Kaggle test set was 96,21%! Still not as good as the KNN classifier, but at least an improvement. Definitely, building and training neural networks is a topic that I will look into deeper in the future!"
   ]
  },
  {
   "cell_type": "markdown",
   "metadata": {},
   "source": [
    "## Modeling: Deep Neural Networks with Keras\n",
    "\n",
    "Some time after creating the preceeding parts of this notebook, I am coming back for building more DNNs for the MNIST dataset using [Keras](https://keras.io/). First, I will create a network with three hidden Dense layers. Afterwards, I will create a convolutional neural network (CNN) with convolutional and pooling layers, which are known to be very effective for images. The concrete network architecture of the CNN I will use has been inspired by a blog post I have read about CNNs."
   ]
  },
  {
   "cell_type": "code",
   "execution_count": 20,
   "metadata": {},
   "outputs": [
    {
     "name": "stderr",
     "output_type": "stream",
     "text": [
      "Using TensorFlow backend.\n"
     ]
    }
   ],
   "source": [
    "from keras.models import Sequential\n",
    "from keras.layers import Dense, Conv2D, MaxPool2D, Dropout, Flatten\n",
    "from keras.utils import to_categorical\n",
    "from keras.callbacks import EarlyStopping"
   ]
  },
  {
   "cell_type": "code",
   "execution_count": 23,
   "metadata": {},
   "outputs": [],
   "source": [
    "# Prepare data\n",
    "features = X_train\n",
    "n_cols = features.shape[1]\n",
    "target = to_categorical(y_train, num_classes = 10)"
   ]
  },
  {
   "cell_type": "code",
   "execution_count": 24,
   "metadata": {},
   "outputs": [
    {
     "name": "stdout",
     "output_type": "stream",
     "text": [
      "Model: \"sequential_2\"\n",
      "_________________________________________________________________\n",
      "Layer (type)                 Output Shape              Param #   \n",
      "=================================================================\n",
      "dense_1 (Dense)              (None, 256)               200960    \n",
      "_________________________________________________________________\n",
      "dense_2 (Dense)              (None, 128)               32896     \n",
      "_________________________________________________________________\n",
      "dense_3 (Dense)              (None, 64)                8256      \n",
      "_________________________________________________________________\n",
      "dropout_1 (Dropout)          (None, 64)                0         \n",
      "_________________________________________________________________\n",
      "dense_4 (Dense)              (None, 10)                650       \n",
      "=================================================================\n",
      "Total params: 242,762\n",
      "Trainable params: 242,762\n",
      "Non-trainable params: 0\n",
      "_________________________________________________________________\n"
     ]
    }
   ],
   "source": [
    "# Create first Dense model with three hidden layers\n",
    "dense_model = Sequential()\n",
    "dense_model.add(Dense(256, activation='relu', input_shape = (n_cols,)))\n",
    "dense_model.add(Dense(128, activation='relu'))\n",
    "dense_model.add(Dense(64, activation='relu'))\n",
    "dense_model.add(Dropout(0.25))\n",
    "dense_model.add(Dense(10, activation='softmax'))\n",
    "dense_model.summary()"
   ]
  },
  {
   "cell_type": "code",
   "execution_count": 26,
   "metadata": {},
   "outputs": [
    {
     "name": "stdout",
     "output_type": "stream",
     "text": [
      "Train on 31500 samples, validate on 10500 samples\n",
      "Epoch 1/200\n",
      "31500/31500 [==============================] - 4s 139us/step - loss: 1.7716 - accuracy: 0.6209 - val_loss: 0.7728 - val_accuracy: 0.7770\n",
      "Epoch 2/200\n",
      "31500/31500 [==============================] - 4s 133us/step - loss: 0.6739 - accuracy: 0.7983 - val_loss: 0.4101 - val_accuracy: 0.9057\n",
      "Epoch 3/200\n",
      "31500/31500 [==============================] - 4s 134us/step - loss: 0.5013 - accuracy: 0.8597 - val_loss: 0.3198 - val_accuracy: 0.9225\n",
      "Epoch 4/200\n",
      "31500/31500 [==============================] - 4s 133us/step - loss: 0.3674 - accuracy: 0.8955 - val_loss: 0.2902 - val_accuracy: 0.9270\n",
      "Epoch 5/200\n",
      "31500/31500 [==============================] - 4s 134us/step - loss: 0.3015 - accuracy: 0.9145 - val_loss: 0.2752 - val_accuracy: 0.9450\n",
      "Epoch 6/200\n",
      "31500/31500 [==============================] - 4s 136us/step - loss: 0.2610 - accuracy: 0.9290 - val_loss: 0.2558 - val_accuracy: 0.9487\n",
      "Epoch 7/200\n",
      "31500/31500 [==============================] - 4s 140us/step - loss: 0.2098 - accuracy: 0.9423 - val_loss: 0.2059 - val_accuracy: 0.9507\n",
      "Epoch 8/200\n",
      "31500/31500 [==============================] - 4s 137us/step - loss: 0.1916 - accuracy: 0.9462 - val_loss: 0.1922 - val_accuracy: 0.9587\n",
      "Epoch 9/200\n",
      "31500/31500 [==============================] - 4s 138us/step - loss: 0.1567 - accuracy: 0.9561 - val_loss: 0.2141 - val_accuracy: 0.9631\n",
      "Epoch 10/200\n",
      "31500/31500 [==============================] - 4s 143us/step - loss: 0.1549 - accuracy: 0.9578 - val_loss: 0.1942 - val_accuracy: 0.9635\n",
      "Epoch 11/200\n",
      "31500/31500 [==============================] - 4s 137us/step - loss: 0.1328 - accuracy: 0.9631 - val_loss: 0.2562 - val_accuracy: 0.9605\n",
      "Epoch 12/200\n",
      "31500/31500 [==============================] - 4s 140us/step - loss: 0.1220 - accuracy: 0.9660 - val_loss: 0.2290 - val_accuracy: 0.9582\n",
      "Epoch 13/200\n",
      "31500/31500 [==============================] - 4s 136us/step - loss: 0.1243 - accuracy: 0.9679 - val_loss: 0.2059 - val_accuracy: 0.9629\n",
      "Epoch 14/200\n",
      "31500/31500 [==============================] - 4s 135us/step - loss: 0.1146 - accuracy: 0.9697 - val_loss: 0.1946 - val_accuracy: 0.9664\n",
      "Epoch 15/200\n",
      "31500/31500 [==============================] - 4s 136us/step - loss: 0.1155 - accuracy: 0.9684 - val_loss: 0.1882 - val_accuracy: 0.9643\n",
      "Epoch 16/200\n",
      "31500/31500 [==============================] - 4s 132us/step - loss: 0.0988 - accuracy: 0.9729 - val_loss: 0.2553 - val_accuracy: 0.9627\n",
      "Epoch 17/200\n",
      "31500/31500 [==============================] - 4s 138us/step - loss: 0.0851 - accuracy: 0.9764 - val_loss: 0.2298 - val_accuracy: 0.9732\n",
      "Epoch 18/200\n",
      "31500/31500 [==============================] - 4s 142us/step - loss: 0.0980 - accuracy: 0.9764 - val_loss: 0.1957 - val_accuracy: 0.9684\n",
      "Epoch 19/200\n",
      "31500/31500 [==============================] - 4s 135us/step - loss: 0.0842 - accuracy: 0.9780 - val_loss: 0.2079 - val_accuracy: 0.9669\n",
      "Epoch 20/200\n",
      "31500/31500 [==============================] - 4s 136us/step - loss: 0.0894 - accuracy: 0.9773 - val_loss: 0.3366 - val_accuracy: 0.9669\n",
      "Epoch 21/200\n",
      "31500/31500 [==============================] - 4s 133us/step - loss: 0.0909 - accuracy: 0.9763 - val_loss: 0.2376 - val_accuracy: 0.9650\n",
      "Epoch 22/200\n",
      "31500/31500 [==============================] - 4s 134us/step - loss: 0.0733 - accuracy: 0.9812 - val_loss: 0.2405 - val_accuracy: 0.9654\n",
      "Epoch 23/200\n",
      "31500/31500 [==============================] - 4s 131us/step - loss: 0.0811 - accuracy: 0.9807 - val_loss: 0.2516 - val_accuracy: 0.9704\n",
      "Epoch 24/200\n",
      "31500/31500 [==============================] - 4s 132us/step - loss: 0.0691 - accuracy: 0.9821 - val_loss: 0.3314 - val_accuracy: 0.9671\n",
      "Epoch 25/200\n",
      "31500/31500 [==============================] - 4s 137us/step - loss: 0.0783 - accuracy: 0.9806 - val_loss: 0.2791 - val_accuracy: 0.9690\n"
     ]
    }
   ],
   "source": [
    "# Compile and fit the model\n",
    "dense_model.compile(optimizer='adam', loss='categorical_crossentropy', metrics=['accuracy'])\n",
    "early_stopping_monitor = EarlyStopping(patience=10)\n",
    "dense_model_training = dense_model.fit(features, target, validation_split=0.25, epochs=200, callbacks=[early_stopping_monitor])"
   ]
  },
  {
   "cell_type": "code",
   "execution_count": 35,
   "metadata": {},
   "outputs": [],
   "source": [
    "# Predict for the test set and save predictions\n",
    "dense_model_predictions = np.array([np.argmax(r) for r in dense_model.predict(test)])\n",
    "save_prediction(dense_model_predictions, 'dense_model')"
   ]
  },
  {
   "cell_type": "markdown",
   "metadata": {},
   "source": [
    "The dense model scored 96,64% on Kaggle, nice! Let's see next how the NCC model performs."
   ]
  },
  {
   "cell_type": "code",
   "execution_count": 27,
   "metadata": {},
   "outputs": [],
   "source": [
    "# Reshape image in 3 dimensions (height = 28px, width = 28px , canal = 1)\n",
    "features_reshaped = X_train.values.reshape(-1,28,28,1)\n",
    "test_reshaped = test.values.reshape(-1,28,28,1)"
   ]
  },
  {
   "cell_type": "code",
   "execution_count": 28,
   "metadata": {},
   "outputs": [
    {
     "name": "stdout",
     "output_type": "stream",
     "text": [
      "Model: \"sequential_3\"\n",
      "_________________________________________________________________\n",
      "Layer (type)                 Output Shape              Param #   \n",
      "=================================================================\n",
      "conv2d_1 (Conv2D)            (None, 28, 28, 32)        832       \n",
      "_________________________________________________________________\n",
      "conv2d_2 (Conv2D)            (None, 28, 28, 32)        25632     \n",
      "_________________________________________________________________\n",
      "max_pooling2d_1 (MaxPooling2 (None, 14, 14, 32)        0         \n",
      "_________________________________________________________________\n",
      "dropout_2 (Dropout)          (None, 14, 14, 32)        0         \n",
      "_________________________________________________________________\n",
      "conv2d_3 (Conv2D)            (None, 14, 14, 64)        18496     \n",
      "_________________________________________________________________\n",
      "conv2d_4 (Conv2D)            (None, 14, 14, 64)        36928     \n",
      "_________________________________________________________________\n",
      "max_pooling2d_2 (MaxPooling2 (None, 7, 7, 64)          0         \n",
      "_________________________________________________________________\n",
      "dropout_3 (Dropout)          (None, 7, 7, 64)          0         \n",
      "_________________________________________________________________\n",
      "flatten_1 (Flatten)          (None, 3136)              0         \n",
      "_________________________________________________________________\n",
      "dense_5 (Dense)              (None, 256)               803072    \n",
      "_________________________________________________________________\n",
      "dense_6 (Dense)              (None, 64)                16448     \n",
      "_________________________________________________________________\n",
      "dropout_4 (Dropout)          (None, 64)                0         \n",
      "_________________________________________________________________\n",
      "dense_7 (Dense)              (None, 10)                650       \n",
      "=================================================================\n",
      "Total params: 902,058\n",
      "Trainable params: 902,058\n",
      "Non-trainable params: 0\n",
      "_________________________________________________________________\n"
     ]
    }
   ],
   "source": [
    "# Create Convolutional Neural Network model with two convolution+pooling blocks\n",
    "cnn_model = Sequential()\n",
    "\n",
    "cnn_model.add(Conv2D(filters = 32, kernel_size = (5,5),padding = 'Same', \n",
    "                 activation ='relu', input_shape = (28,28,1)))\n",
    "cnn_model.add(Conv2D(filters = 32, kernel_size = (5,5),padding = 'Same', \n",
    "                 activation ='relu'))\n",
    "cnn_model.add(MaxPool2D(pool_size=(2,2)))\n",
    "cnn_model.add(Dropout(0.25))\n",
    "\n",
    "cnn_model.add(Conv2D(filters = 64, kernel_size = (3,3),padding = 'Same', \n",
    "                 activation ='relu'))\n",
    "cnn_model.add(Conv2D(filters = 64, kernel_size = (3,3),padding = 'Same', \n",
    "                 activation ='relu'))\n",
    "cnn_model.add(MaxPool2D(pool_size=(2,2), strides=(2,2)))\n",
    "cnn_model.add(Dropout(0.25))\n",
    "\n",
    "cnn_model.add(Flatten())\n",
    "cnn_model.add(Dense(256, activation = \"relu\"))\n",
    "cnn_model.add(Dense(64, activation='relu'))\n",
    "cnn_model.add(Dropout(0.25))\n",
    "cnn_model.add(Dense(10, activation = \"softmax\"))\n",
    "\n",
    "cnn_model.summary()"
   ]
  },
  {
   "cell_type": "code",
   "execution_count": 29,
   "metadata": {},
   "outputs": [
    {
     "name": "stdout",
     "output_type": "stream",
     "text": [
      "Train on 31500 samples, validate on 10500 samples\n",
      "Epoch 1/200\n",
      "31500/31500 [==============================] - 118s 4ms/step - loss: 0.3963 - accuracy: 0.8917 - val_loss: 0.0744 - val_accuracy: 0.9780\n",
      "Epoch 2/200\n",
      "31500/31500 [==============================] - 118s 4ms/step - loss: 0.1170 - accuracy: 0.9675 - val_loss: 0.0505 - val_accuracy: 0.9852\n",
      "Epoch 3/200\n",
      "31500/31500 [==============================] - 116s 4ms/step - loss: 0.0916 - accuracy: 0.9745 - val_loss: 0.0565 - val_accuracy: 0.9825\n",
      "Epoch 4/200\n",
      "31500/31500 [==============================] - 115s 4ms/step - loss: 0.0788 - accuracy: 0.9779 - val_loss: 0.0374 - val_accuracy: 0.9894\n",
      "Epoch 5/200\n",
      "31500/31500 [==============================] - 116s 4ms/step - loss: 0.0685 - accuracy: 0.9811 - val_loss: 0.0566 - val_accuracy: 0.9845\n",
      "Epoch 6/200\n",
      "31500/31500 [==============================] - 115s 4ms/step - loss: 0.0654 - accuracy: 0.9822 - val_loss: 0.0542 - val_accuracy: 0.9854\n",
      "Epoch 7/200\n",
      "31500/31500 [==============================] - 115s 4ms/step - loss: 0.0624 - accuracy: 0.9830 - val_loss: 0.0604 - val_accuracy: 0.9839\n",
      "Epoch 8/200\n",
      "31500/31500 [==============================] - 115s 4ms/step - loss: 0.0567 - accuracy: 0.9853 - val_loss: 0.0887 - val_accuracy: 0.9757\n",
      "Epoch 9/200\n",
      "31500/31500 [==============================] - 117s 4ms/step - loss: 0.0562 - accuracy: 0.9848 - val_loss: 0.0507 - val_accuracy: 0.9889\n",
      "Epoch 10/200\n",
      "31500/31500 [==============================] - 117s 4ms/step - loss: 0.0509 - accuracy: 0.9864 - val_loss: 0.0527 - val_accuracy: 0.9878\n",
      "Epoch 11/200\n",
      "31500/31500 [==============================] - 118s 4ms/step - loss: 0.0468 - accuracy: 0.9869 - val_loss: 0.0467 - val_accuracy: 0.9887\n",
      "Epoch 12/200\n",
      "31500/31500 [==============================] - 119s 4ms/step - loss: 0.0451 - accuracy: 0.9875 - val_loss: 0.0509 - val_accuracy: 0.9886\n",
      "Epoch 13/200\n",
      "31500/31500 [==============================] - 116s 4ms/step - loss: 0.0518 - accuracy: 0.9865 - val_loss: 0.0397 - val_accuracy: 0.9897\n",
      "Epoch 14/200\n",
      "31500/31500 [==============================] - 116s 4ms/step - loss: 0.0447 - accuracy: 0.9879 - val_loss: 0.0476 - val_accuracy: 0.9900\n"
     ]
    }
   ],
   "source": [
    "# Compile and fit the model\n",
    "cnn_model.compile(optimizer='adam', loss='categorical_crossentropy', metrics=['accuracy'])\n",
    "early_stopping_monitor = EarlyStopping(patience=10)\n",
    "cnn_model_training = cnn_model.fit(features_reshaped, target, validation_split=0.25, epochs=200, callbacks=[early_stopping_monitor])"
   ]
  },
  {
   "cell_type": "markdown",
   "metadata": {},
   "source": [
    "99% validation accuracy after just 15 epochs, wow. Let's compare the training progress of the dense model and CNN model:"
   ]
  },
  {
   "cell_type": "code",
   "execution_count": 30,
   "metadata": {},
   "outputs": [
    {
     "data": {
      "image/png": "[encoded data removed]",
      "text/plain": [
       "<Figure size 432x288 with 1 Axes>"
      ]
     },
     "metadata": {},
     "output_type": "display_data"
    }
   ],
   "source": [
    "# Create the plot\n",
    "plt.plot(dense_model_training.history['val_loss'], 'b', cnn_model_training.history['val_loss'], 'r')\n",
    "plt.xlabel('Epochs')\n",
    "plt.ylabel('Validation score')\n",
    "plt.show()"
   ]
  },
  {
   "cell_type": "markdown",
   "metadata": {},
   "source": [
    "It really looks like the training scores of CNN model outperform the scores of the dense model by far. Finally, let's submit the predictions "
   ]
  },
  {
   "cell_type": "code",
   "execution_count": 36,
   "metadata": {},
   "outputs": [],
   "source": [
    "# Predict for the test set and save predictions\n",
    "cnn_model_predictions = np.array([np.argmax(r) for r in cnn_model.predict(test_reshaped)])\n",
    "save_prediction(cnn_model_predictions, 'cnn_model')"
   ]
  },
  {
   "cell_type": "markdown",
   "metadata": {},
   "source": [
    "We have a winner! The CNN model scored 98,71% on Kaggle and was therefore able to maintain its training performance. Overall, this is not surprising as convolutional neural networks are well-known these days to excel for image classification tasks."
   ]
  }
 ],
 "metadata": {
  "kernelspec": {
   "display_name": "Python 3",
   "language": "python",
   "name": "python3"
  },
  "language_info": {
   "codemirror_mode": {
    "name": "ipython",
    "version": 3
   },
   "file_extension": ".py",
   "mimetype": "text/x-python",
   "name": "python",
   "nbconvert_exporter": "python",
   "pygments_lexer": "ipython3",
   "version": "3.7.6"
  }
 },
 "nbformat": 4,
 "nbformat_minor": 4
}

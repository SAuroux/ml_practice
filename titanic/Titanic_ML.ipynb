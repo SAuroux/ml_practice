{
 "cells": [
  {
   "cell_type": "markdown",
   "metadata": {},
   "source": [
    "# Titanic: Machine Learning from Disaster\n",
    "\n",
    "This notebook summarizes my efforts for working on the [Kaggle Titanic challenge](https://www.kaggle.com/c/titanic). The final ensemble method achieved a prediction accuracy of 0.79425 for the test set."
   ]
  },
  {
   "cell_type": "code",
   "execution_count": 1,
   "metadata": {},
   "outputs": [],
   "source": [
    "import pandas as pd\n",
    "import numpy as np\n",
    "import seaborn as sns\n",
    "import matplotlib.pyplot as plt\n",
    "%matplotlib inline\n",
    "\n",
    "from collections import Counter\n",
    "\n",
    "from sklearn.model_selection import GridSearchCV, cross_val_score, StratifiedKFold\n",
    "from sklearn.metrics import accuracy_score, roc_auc_score\n",
    "from sklearn.preprocessing import MinMaxScaler\n",
    "from sklearn.feature_selection import VarianceThreshold, SelectKBest, chi2, f_classif\n",
    "from sklearn.linear_model import LogisticRegression\n",
    "from sklearn.naive_bayes import GaussianNB\n",
    "from sklearn.neighbors import KNeighborsClassifier\n",
    "from sklearn.tree import DecisionTreeClassifier\n",
    "from sklearn.svm import SVC\n",
    "from sklearn.ensemble import RandomForestClassifier, AdaBoostClassifier, GradientBoostingClassifier\n",
    "from sklearn.ensemble import ExtraTreesClassifier, VotingClassifier\n",
    "\n",
    "import warnings\n",
    "warnings.filterwarnings('ignore')"
   ]
  },
  {
   "cell_type": "markdown",
   "metadata": {},
   "source": [
    "## 1. Data import and wrangling\n",
    "\n",
    "First, I will import training and test data and have a first look."
   ]
  },
  {
   "cell_type": "code",
   "execution_count": 2,
   "metadata": {},
   "outputs": [],
   "source": [
    "train = pd.read_csv('input/train.csv')\n",
    "test = pd.read_csv('input/test.csv')\n",
    "test_ids = test['PassengerId']\n",
    "\n",
    "## Join train and test datasets in order to obtain the same number of features during data transformation\n",
    "train_len = len(train)\n",
    "dataset =  pd.concat(objs=[train, test], axis=0).reset_index(drop=True)\n",
    "dataset = dataset.fillna(np.nan)"
   ]
  },
  {
   "cell_type": "code",
   "execution_count": 3,
   "metadata": {},
   "outputs": [
    {
     "data": {
      "text/html": [
       "<div>\n",
       "<style scoped>\n",
       "    .dataframe tbody tr th:only-of-type {\n",
       "        vertical-align: middle;\n",
       "    }\n",
       "\n",
       "    .dataframe tbody tr th {\n",
       "        vertical-align: top;\n",
       "    }\n",
       "\n",
       "    .dataframe thead th {\n",
       "        text-align: right;\n",
       "    }\n",
       "</style>\n",
       "<table border=\"1\" class=\"dataframe\">\n",
       "  <thead>\n",
       "    <tr style=\"text-align: right;\">\n",
       "      <th></th>\n",
       "      <th>PassengerId</th>\n",
       "      <th>Survived</th>\n",
       "      <th>Pclass</th>\n",
       "      <th>Name</th>\n",
       "      <th>Sex</th>\n",
       "      <th>Age</th>\n",
       "      <th>SibSp</th>\n",
       "      <th>Parch</th>\n",
       "      <th>Ticket</th>\n",
       "      <th>Fare</th>\n",
       "      <th>Cabin</th>\n",
       "      <th>Embarked</th>\n",
       "    </tr>\n",
       "  </thead>\n",
       "  <tbody>\n",
       "    <tr>\n",
       "      <th>0</th>\n",
       "      <td>1</td>\n",
       "      <td>0</td>\n",
       "      <td>3</td>\n",
       "      <td>Braund, Mr. Owen Harris</td>\n",
       "      <td>male</td>\n",
       "      <td>22.0</td>\n",
       "      <td>1</td>\n",
       "      <td>0</td>\n",
       "      <td>A/5 21171</td>\n",
       "      <td>7.2500</td>\n",
       "      <td>NaN</td>\n",
       "      <td>S</td>\n",
       "    </tr>\n",
       "    <tr>\n",
       "      <th>1</th>\n",
       "      <td>2</td>\n",
       "      <td>1</td>\n",
       "      <td>1</td>\n",
       "      <td>Cumings, Mrs. John Bradley (Florence Briggs Th...</td>\n",
       "      <td>female</td>\n",
       "      <td>38.0</td>\n",
       "      <td>1</td>\n",
       "      <td>0</td>\n",
       "      <td>PC 17599</td>\n",
       "      <td>71.2833</td>\n",
       "      <td>C85</td>\n",
       "      <td>C</td>\n",
       "    </tr>\n",
       "    <tr>\n",
       "      <th>2</th>\n",
       "      <td>3</td>\n",
       "      <td>1</td>\n",
       "      <td>3</td>\n",
       "      <td>Heikkinen, Miss. Laina</td>\n",
       "      <td>female</td>\n",
       "      <td>26.0</td>\n",
       "      <td>0</td>\n",
       "      <td>0</td>\n",
       "      <td>STON/O2. 3101282</td>\n",
       "      <td>7.9250</td>\n",
       "      <td>NaN</td>\n",
       "      <td>S</td>\n",
       "    </tr>\n",
       "    <tr>\n",
       "      <th>3</th>\n",
       "      <td>4</td>\n",
       "      <td>1</td>\n",
       "      <td>1</td>\n",
       "      <td>Futrelle, Mrs. Jacques Heath (Lily May Peel)</td>\n",
       "      <td>female</td>\n",
       "      <td>35.0</td>\n",
       "      <td>1</td>\n",
       "      <td>0</td>\n",
       "      <td>113803</td>\n",
       "      <td>53.1000</td>\n",
       "      <td>C123</td>\n",
       "      <td>S</td>\n",
       "    </tr>\n",
       "    <tr>\n",
       "      <th>4</th>\n",
       "      <td>5</td>\n",
       "      <td>0</td>\n",
       "      <td>3</td>\n",
       "      <td>Allen, Mr. William Henry</td>\n",
       "      <td>male</td>\n",
       "      <td>35.0</td>\n",
       "      <td>0</td>\n",
       "      <td>0</td>\n",
       "      <td>373450</td>\n",
       "      <td>8.0500</td>\n",
       "      <td>NaN</td>\n",
       "      <td>S</td>\n",
       "    </tr>\n",
       "  </tbody>\n",
       "</table>\n",
       "</div>"
      ],
      "text/plain": [
       "   PassengerId  Survived  Pclass  \\\n",
       "0            1         0       3   \n",
       "1            2         1       1   \n",
       "2            3         1       3   \n",
       "3            4         1       1   \n",
       "4            5         0       3   \n",
       "\n",
       "                                                Name     Sex   Age  SibSp  \\\n",
       "0                            Braund, Mr. Owen Harris    male  22.0      1   \n",
       "1  Cumings, Mrs. John Bradley (Florence Briggs Th...  female  38.0      1   \n",
       "2                             Heikkinen, Miss. Laina  female  26.0      0   \n",
       "3       Futrelle, Mrs. Jacques Heath (Lily May Peel)  female  35.0      1   \n",
       "4                           Allen, Mr. William Henry    male  35.0      0   \n",
       "\n",
       "   Parch            Ticket     Fare Cabin Embarked  \n",
       "0      0         A/5 21171   7.2500   NaN        S  \n",
       "1      0          PC 17599  71.2833   C85        C  \n",
       "2      0  STON/O2. 3101282   7.9250   NaN        S  \n",
       "3      0            113803  53.1000  C123        S  \n",
       "4      0            373450   8.0500   NaN        S  "
      ]
     },
     "execution_count": 3,
     "metadata": {},
     "output_type": "execute_result"
    }
   ],
   "source": [
    "train.head()"
   ]
  },
  {
   "cell_type": "code",
   "execution_count": 4,
   "metadata": {},
   "outputs": [
    {
     "data": {
      "text/html": [
       "<div>\n",
       "<style scoped>\n",
       "    .dataframe tbody tr th:only-of-type {\n",
       "        vertical-align: middle;\n",
       "    }\n",
       "\n",
       "    .dataframe tbody tr th {\n",
       "        vertical-align: top;\n",
       "    }\n",
       "\n",
       "    .dataframe thead th {\n",
       "        text-align: right;\n",
       "    }\n",
       "</style>\n",
       "<table border=\"1\" class=\"dataframe\">\n",
       "  <thead>\n",
       "    <tr style=\"text-align: right;\">\n",
       "      <th></th>\n",
       "      <th>PassengerId</th>\n",
       "      <th>Survived</th>\n",
       "      <th>Pclass</th>\n",
       "      <th>Age</th>\n",
       "      <th>SibSp</th>\n",
       "      <th>Parch</th>\n",
       "      <th>Fare</th>\n",
       "    </tr>\n",
       "  </thead>\n",
       "  <tbody>\n",
       "    <tr>\n",
       "      <th>count</th>\n",
       "      <td>891.000000</td>\n",
       "      <td>891.000000</td>\n",
       "      <td>891.000000</td>\n",
       "      <td>714.000000</td>\n",
       "      <td>891.000000</td>\n",
       "      <td>891.000000</td>\n",
       "      <td>891.000000</td>\n",
       "    </tr>\n",
       "    <tr>\n",
       "      <th>mean</th>\n",
       "      <td>446.000000</td>\n",
       "      <td>0.383838</td>\n",
       "      <td>2.308642</td>\n",
       "      <td>29.699118</td>\n",
       "      <td>0.523008</td>\n",
       "      <td>0.381594</td>\n",
       "      <td>32.204208</td>\n",
       "    </tr>\n",
       "    <tr>\n",
       "      <th>std</th>\n",
       "      <td>257.353842</td>\n",
       "      <td>0.486592</td>\n",
       "      <td>0.836071</td>\n",
       "      <td>14.526497</td>\n",
       "      <td>1.102743</td>\n",
       "      <td>0.806057</td>\n",
       "      <td>49.693429</td>\n",
       "    </tr>\n",
       "    <tr>\n",
       "      <th>min</th>\n",
       "      <td>1.000000</td>\n",
       "      <td>0.000000</td>\n",
       "      <td>1.000000</td>\n",
       "      <td>0.420000</td>\n",
       "      <td>0.000000</td>\n",
       "      <td>0.000000</td>\n",
       "      <td>0.000000</td>\n",
       "    </tr>\n",
       "    <tr>\n",
       "      <th>25%</th>\n",
       "      <td>223.500000</td>\n",
       "      <td>0.000000</td>\n",
       "      <td>2.000000</td>\n",
       "      <td>20.125000</td>\n",
       "      <td>0.000000</td>\n",
       "      <td>0.000000</td>\n",
       "      <td>7.910400</td>\n",
       "    </tr>\n",
       "    <tr>\n",
       "      <th>50%</th>\n",
       "      <td>446.000000</td>\n",
       "      <td>0.000000</td>\n",
       "      <td>3.000000</td>\n",
       "      <td>28.000000</td>\n",
       "      <td>0.000000</td>\n",
       "      <td>0.000000</td>\n",
       "      <td>14.454200</td>\n",
       "    </tr>\n",
       "    <tr>\n",
       "      <th>75%</th>\n",
       "      <td>668.500000</td>\n",
       "      <td>1.000000</td>\n",
       "      <td>3.000000</td>\n",
       "      <td>38.000000</td>\n",
       "      <td>1.000000</td>\n",
       "      <td>0.000000</td>\n",
       "      <td>31.000000</td>\n",
       "    </tr>\n",
       "    <tr>\n",
       "      <th>max</th>\n",
       "      <td>891.000000</td>\n",
       "      <td>1.000000</td>\n",
       "      <td>3.000000</td>\n",
       "      <td>80.000000</td>\n",
       "      <td>8.000000</td>\n",
       "      <td>6.000000</td>\n",
       "      <td>512.329200</td>\n",
       "    </tr>\n",
       "  </tbody>\n",
       "</table>\n",
       "</div>"
      ],
      "text/plain": [
       "       PassengerId    Survived      Pclass         Age       SibSp  \\\n",
       "count   891.000000  891.000000  891.000000  714.000000  891.000000   \n",
       "mean    446.000000    0.383838    2.308642   29.699118    0.523008   \n",
       "std     257.353842    0.486592    0.836071   14.526497    1.102743   \n",
       "min       1.000000    0.000000    1.000000    0.420000    0.000000   \n",
       "25%     223.500000    0.000000    2.000000   20.125000    0.000000   \n",
       "50%     446.000000    0.000000    3.000000   28.000000    0.000000   \n",
       "75%     668.500000    1.000000    3.000000   38.000000    1.000000   \n",
       "max     891.000000    1.000000    3.000000   80.000000    8.000000   \n",
       "\n",
       "            Parch        Fare  \n",
       "count  891.000000  891.000000  \n",
       "mean     0.381594   32.204208  \n",
       "std      0.806057   49.693429  \n",
       "min      0.000000    0.000000  \n",
       "25%      0.000000    7.910400  \n",
       "50%      0.000000   14.454200  \n",
       "75%      0.000000   31.000000  \n",
       "max      6.000000  512.329200  "
      ]
     },
     "execution_count": 4,
     "metadata": {},
     "output_type": "execute_result"
    }
   ],
   "source": [
    "train.describe()"
   ]
  },
  {
   "cell_type": "code",
   "execution_count": 5,
   "metadata": {},
   "outputs": [
    {
     "name": "stdout",
     "output_type": "stream",
     "text": [
      "<class 'pandas.core.frame.DataFrame'>\n",
      "RangeIndex: 891 entries, 0 to 890\n",
      "Data columns (total 12 columns):\n",
      "PassengerId    891 non-null int64\n",
      "Survived       891 non-null int64\n",
      "Pclass         891 non-null int64\n",
      "Name           891 non-null object\n",
      "Sex            891 non-null object\n",
      "Age            714 non-null float64\n",
      "SibSp          891 non-null int64\n",
      "Parch          891 non-null int64\n",
      "Ticket         891 non-null object\n",
      "Fare           891 non-null float64\n",
      "Cabin          204 non-null object\n",
      "Embarked       889 non-null object\n",
      "dtypes: float64(2), int64(5), object(5)\n",
      "memory usage: 83.6+ KB\n"
     ]
    }
   ],
   "source": [
    "train.info()"
   ]
  },
  {
   "cell_type": "markdown",
   "metadata": {},
   "source": [
    "### Imputing missing values"
   ]
  },
  {
   "cell_type": "code",
   "execution_count": 6,
   "metadata": {},
   "outputs": [
    {
     "data": {
      "text/plain": [
       "Age             263\n",
       "Cabin          1014\n",
       "Embarked          2\n",
       "Fare              1\n",
       "Name              0\n",
       "Parch             0\n",
       "PassengerId       0\n",
       "Pclass            0\n",
       "Sex               0\n",
       "SibSp             0\n",
       "Survived        418\n",
       "Ticket            0\n",
       "dtype: int64"
      ]
     },
     "execution_count": 6,
     "metadata": {},
     "output_type": "execute_result"
    }
   ],
   "source": [
    "dataset.isnull().sum()"
   ]
  },
  {
   "cell_type": "markdown",
   "metadata": {},
   "source": [
    "While the missing values for the *Survived* attribute stems from the test data set, there are other missing values that have to be dealt with. I decided to fill the missing values as follows:\n",
    "\n",
    "* *Age:* median within similar rows regarding the most correlated features with Age (Sex, Parch , Pclass and SibSp). If such a row does not exist, I will take the median from the corresponding passenger class.\n",
    "* *Fare:* median within the corresponding passenger class\n",
    "* *Embarked:* the only missing value will be replaced by the most frequent value\n",
    "* *Cabin:* I will replace missing values by 'X'"
   ]
  },
  {
   "cell_type": "code",
   "execution_count": 7,
   "metadata": {},
   "outputs": [],
   "source": [
    "dataset.Age = dataset.groupby(['Sex','Pclass','Parch','SibSp']).Age.transform(lambda x: x.fillna(x.median()))\n",
    "dataset.Age = dataset.groupby('Pclass').Age.transform(lambda x: x.fillna(x.median()))\n",
    "dataset.Fare = dataset.groupby('Pclass').Fare.transform(lambda x: x.fillna(x.median()))\n",
    "dataset.Embarked = dataset.Embarked.fillna(dataset.Embarked.value_counts().idxmax())\n",
    "dataset.Cabin = dataset.Cabin.fillna('X')"
   ]
  },
  {
   "cell_type": "code",
   "execution_count": 8,
   "metadata": {},
   "outputs": [
    {
     "name": "stdout",
     "output_type": "stream",
     "text": [
      "<class 'pandas.core.frame.DataFrame'>\n",
      "RangeIndex: 1309 entries, 0 to 1308\n",
      "Data columns (total 12 columns):\n",
      "Age            1309 non-null float64\n",
      "Cabin          1309 non-null object\n",
      "Embarked       1309 non-null object\n",
      "Fare           1309 non-null float64\n",
      "Name           1309 non-null object\n",
      "Parch          1309 non-null int64\n",
      "PassengerId    1309 non-null int64\n",
      "Pclass         1309 non-null int64\n",
      "Sex            1309 non-null object\n",
      "SibSp          1309 non-null int64\n",
      "Survived       891 non-null float64\n",
      "Ticket         1309 non-null object\n",
      "dtypes: float64(3), int64(4), object(5)\n",
      "memory usage: 122.8+ KB\n"
     ]
    }
   ],
   "source": [
    "dataset.info()"
   ]
  },
  {
   "cell_type": "markdown",
   "metadata": {},
   "source": [
    "## 2. Feature engineering\n",
    "\n",
    "Now, I will look at the available data in more detail to identify significant features and decide to create new ones."
   ]
  },
  {
   "cell_type": "markdown",
   "metadata": {},
   "source": [
    "### Age\n",
    "\n",
    "Let's look at the age of survivors versus the age of non-survivors."
   ]
  },
  {
   "cell_type": "code",
   "execution_count": 9,
   "metadata": {
    "scrolled": true
   },
   "outputs": [
    {
     "data": {
      "image/png": "[encoded data removed]",
      "text/plain": [
       "<Figure size 432x288 with 1 Axes>"
      ]
     },
     "metadata": {
      "needs_background": "light"
     },
     "output_type": "display_data"
    }
   ],
   "source": [
    "g = sns.kdeplot(train['Age'][(train['Survived'] == 0) & (train['Age'].notnull())], color='Red', shade = True)\n",
    "g = sns.kdeplot(train['Age'][(train['Survived'] == 1) & (train['Age'].notnull())], ax =g, color='Blue', shade= True)\n",
    "g.set_xlabel('Age')\n",
    "g.set_ylabel('Frequency')\n",
    "g = g.legend(['Not Survived','Survived'])"
   ]
  },
  {
   "cell_type": "markdown",
   "metadata": {},
   "source": [
    "Clearly, the distributions are different. In particular, it appears that minors were more likely to survive compared to adults of 18 years or more. I therefore decided to create additional features from the age column."
   ]
  },
  {
   "cell_type": "code",
   "execution_count": 10,
   "metadata": {},
   "outputs": [],
   "source": [
    "dataset['minor'] = (dataset.Age < 18).astype(int)\n",
    "dataset['adult'] = (dataset.Age >= 18).astype(int)"
   ]
  },
  {
   "cell_type": "markdown",
   "metadata": {},
   "source": [
    "### Sex"
   ]
  },
  {
   "cell_type": "code",
   "execution_count": 11,
   "metadata": {},
   "outputs": [
    {
     "data": {
      "text/html": [
       "<div>\n",
       "<style scoped>\n",
       "    .dataframe tbody tr th:only-of-type {\n",
       "        vertical-align: middle;\n",
       "    }\n",
       "\n",
       "    .dataframe tbody tr th {\n",
       "        vertical-align: top;\n",
       "    }\n",
       "\n",
       "    .dataframe thead th {\n",
       "        text-align: right;\n",
       "    }\n",
       "</style>\n",
       "<table border=\"1\" class=\"dataframe\">\n",
       "  <thead>\n",
       "    <tr style=\"text-align: right;\">\n",
       "      <th></th>\n",
       "      <th>Survived</th>\n",
       "    </tr>\n",
       "    <tr>\n",
       "      <th>Sex</th>\n",
       "      <th></th>\n",
       "    </tr>\n",
       "  </thead>\n",
       "  <tbody>\n",
       "    <tr>\n",
       "      <th>female</th>\n",
       "      <td>0.742038</td>\n",
       "    </tr>\n",
       "    <tr>\n",
       "      <th>male</th>\n",
       "      <td>0.188908</td>\n",
       "    </tr>\n",
       "  </tbody>\n",
       "</table>\n",
       "</div>"
      ],
      "text/plain": [
       "        Survived\n",
       "Sex             \n",
       "female  0.742038\n",
       "male    0.188908"
      ]
     },
     "execution_count": 11,
     "metadata": {},
     "output_type": "execute_result"
    }
   ],
   "source": [
    "train[['Sex', 'Survived']].groupby('Sex').mean()"
   ]
  },
  {
   "cell_type": "markdown",
   "metadata": {},
   "source": [
    "Clearly, women were more likely to survive. But to use this feature efficiently, the data has to be transformed."
   ]
  },
  {
   "cell_type": "code",
   "execution_count": 12,
   "metadata": {},
   "outputs": [],
   "source": [
    "dataset['Sex'] = dataset['Sex'].map({'male': 0, 'female':1})"
   ]
  },
  {
   "cell_type": "markdown",
   "metadata": {},
   "source": [
    "### Passenger class"
   ]
  },
  {
   "cell_type": "code",
   "execution_count": 13,
   "metadata": {},
   "outputs": [
    {
     "data": {
      "image/png": "[encoded data removed]",
      "text/plain": [
       "<Figure size 360x360 with 1 Axes>"
      ]
     },
     "metadata": {
      "needs_background": "light"
     },
     "output_type": "display_data"
    }
   ],
   "source": [
    "g = sns.factorplot(x='Pclass', y='Survived', data=train, kind='bar')\n",
    "g = g.set_ylabels('Survival proportion')"
   ]
  },
  {
   "cell_type": "markdown",
   "metadata": {},
   "source": [
    "Just like sex, the passenger class apears to have a significant influence on survival. To use the feature efficiently, I will convert the column to cummy variables."
   ]
  },
  {
   "cell_type": "code",
   "execution_count": 14,
   "metadata": {},
   "outputs": [],
   "source": [
    "dataset['Pclass'] = dataset['Pclass'].astype('category')\n",
    "dataset = pd.get_dummies(dataset, columns = ['Pclass'], prefix='PC')"
   ]
  },
  {
   "cell_type": "markdown",
   "metadata": {},
   "source": [
    "### Family size\n",
    "\n",
    "The dataset contains the two columns *SibSp* (# of siblings / spouses aboard the Titanic) and *Parch* (# of parents / children aboard the Titanic)."
   ]
  },
  {
   "cell_type": "code",
   "execution_count": 15,
   "metadata": {},
   "outputs": [
    {
     "data": {
      "image/png": "[encoded data removed]",
      "text/plain": [
       "<Figure size 360x360 with 1 Axes>"
      ]
     },
     "metadata": {
      "needs_background": "light"
     },
     "output_type": "display_data"
    }
   ],
   "source": [
    "g = sns.factorplot(x='SibSp', y='Survived', data=train, kind='bar')\n",
    "g = g.set_ylabels('Survival proportion')"
   ]
  },
  {
   "cell_type": "code",
   "execution_count": 16,
   "metadata": {},
   "outputs": [
    {
     "data": {
      "image/png": "[encoded data removed]",
      "text/plain": [
       "<Figure size 360x360 with 1 Axes>"
      ]
     },
     "metadata": {
      "needs_background": "light"
     },
     "output_type": "display_data"
    }
   ],
   "source": [
    "g = sns.factorplot(x='Parch', y='Survived', data=train, kind='bar')\n",
    "g = g.set_ylabels('Survival proportion')"
   ]
  },
  {
   "cell_type": "markdown",
   "metadata": {},
   "source": [
    "I decided to combine these two into a new feature *fam_size*:"
   ]
  },
  {
   "cell_type": "code",
   "execution_count": 17,
   "metadata": {},
   "outputs": [
    {
     "data": {
      "image/png": "[encoded data removed]",
      "text/plain": [
       "<Figure size 360x360 with 1 Axes>"
      ]
     },
     "metadata": {
      "needs_background": "light"
     },
     "output_type": "display_data"
    }
   ],
   "source": [
    "dataset['fam_size'] = dataset['Parch'] + dataset['SibSp']\n",
    "\n",
    "g = sns.factorplot(x='fam_size', y='Survived', data=dataset, kind='bar')\n",
    "g = g.set_ylabels('Survival proportion')"
   ]
  },
  {
   "cell_type": "markdown",
   "metadata": {},
   "source": [
    "Now, there appears to be a clear trend that medium size families (2-4 members) have a higher probability to survive compared to singles and large families (> 4 members). Therefore, I decided to create additional features for these:"
   ]
  },
  {
   "cell_type": "code",
   "execution_count": 18,
   "metadata": {},
   "outputs": [],
   "source": [
    "dataset['single'] = (dataset['fam_size'] == 0).astype(int)\n",
    "dataset['med_fam_size'] = ((dataset['fam_size'] > 0) & (dataset['fam_size'] <= 3)).astype(int)\n",
    "dataset['large_fam_size'] = (dataset['fam_size'] > 3).astype(int)"
   ]
  },
  {
   "cell_type": "markdown",
   "metadata": {},
   "source": [
    "### Fare"
   ]
  },
  {
   "cell_type": "code",
   "execution_count": 19,
   "metadata": {},
   "outputs": [
    {
     "data": {
      "image/png": "[encoded data removed]",
      "text/plain": [
       "<Figure size 432x288 with 1 Axes>"
      ]
     },
     "metadata": {
      "needs_background": "light"
     },
     "output_type": "display_data"
    }
   ],
   "source": [
    "g = sns.kdeplot(train['Fare'][(train['Survived'] == 0) & (train['Fare'].notnull())], color='Red', shade = True)\n",
    "g = sns.kdeplot(train['Fare'][(train['Survived'] == 1) & (train['Fare'].notnull())], ax =g, color='Blue', shade= True)\n",
    "g.set_xlabel('Fare')\n",
    "g.set_ylabel('Frequency')\n",
    "g = g.legend(['Not Survived','Survived'])"
   ]
  },
  {
   "cell_type": "markdown",
   "metadata": {},
   "source": [
    "As can be seen above, Fare is correlated with survival. However, using Fare as a feature as is poses a problem due to its skewed distribution (see below), which can lead to overweigth when fitting a model."
   ]
  },
  {
   "cell_type": "code",
   "execution_count": 20,
   "metadata": {},
   "outputs": [
    {
     "data": {
      "image/png": "[encoded data removed]",
      "text/plain": [
       "<Figure size 432x288 with 1 Axes>"
      ]
     },
     "metadata": {
      "needs_background": "light"
     },
     "output_type": "display_data"
    }
   ],
   "source": [
    "g = sns.distplot(dataset['Fare'])"
   ]
  },
  {
   "cell_type": "markdown",
   "metadata": {},
   "source": [
    "For this reason, I decided to (1) add a new booean feature *high_fare* and additionally transform the original Fare feature using a logarithmic transformation:"
   ]
  },
  {
   "cell_type": "code",
   "execution_count": 21,
   "metadata": {},
   "outputs": [
    {
     "data": {
      "text/plain": [
       "high_fare\n",
       "False    0.681250\n",
       "True     0.318741\n",
       "Name: Survived, dtype: float64"
      ]
     },
     "execution_count": 21,
     "metadata": {},
     "output_type": "execute_result"
    }
   ],
   "source": [
    "high_fare_cutoff = 50\n",
    "dataset['high_fare'] = dataset.Fare <= high_fare_cutoff\n",
    "dataset.groupby('high_fare').Survived.mean()"
   ]
  },
  {
   "cell_type": "code",
   "execution_count": 22,
   "metadata": {
    "scrolled": true
   },
   "outputs": [
    {
     "data": {
      "image/png": "[encoded data removed]",
      "text/plain": [
       "<Figure size 432x288 with 1 Axes>"
      ]
     },
     "metadata": {
      "needs_background": "light"
     },
     "output_type": "display_data"
    }
   ],
   "source": [
    "dataset['Fare'] = dataset['Fare'].apply(lambda x: np.log(x) if x > 0 else 0)\n",
    "g = sns.distplot(dataset['Fare'])"
   ]
  },
  {
   "cell_type": "markdown",
   "metadata": {},
   "source": [
    "### Titles\n",
    "\n",
    "Despite the fact that names are commonly useless for feature engineering, I noticed that the names in this dataset have a standardized structure that allows to extract the title of each person:"
   ]
  },
  {
   "cell_type": "code",
   "execution_count": 23,
   "metadata": {},
   "outputs": [
    {
     "data": {
      "text/plain": [
       "Mr.          757\n",
       "Miss.        260\n",
       "Mrs.         197\n",
       "Master.       61\n",
       "Dr.            8\n",
       "Rev.           8\n",
       "Col.           4\n",
       "Ms.            2\n",
       "Mlle.          2\n",
       "Major.         2\n",
       "Capt.          1\n",
       "Lady.          1\n",
       "Jonkheer.      1\n",
       "Dona.          1\n",
       "Sir.           1\n",
       "Don.           1\n",
       "Mme.           1\n",
       "the            1\n",
       "Name: title, dtype: int64"
      ]
     },
     "execution_count": 23,
     "metadata": {},
     "output_type": "execute_result"
    }
   ],
   "source": [
    "dataset['title'] = dataset.Name.str.split(',').str[1].str.split().str[0]\n",
    "dataset.title.value_counts()"
   ]
  },
  {
   "cell_type": "markdown",
   "metadata": {},
   "source": [
    "This still includes several female titles that I will combine and a lot of rare titles that I will also combine into a *Rare* category."
   ]
  },
  {
   "cell_type": "code",
   "execution_count": 24,
   "metadata": {},
   "outputs": [
    {
     "data": {
      "image/png": "[encoded data removed]",
      "text/plain": [
       "<Figure size 360x360 with 1 Axes>"
      ]
     },
     "metadata": {
      "needs_background": "light"
     },
     "output_type": "display_data"
    }
   ],
   "source": [
    "dataset['title'] = dataset['title'].replace(['Miss.', 'Mrs.', 'Ms.', 'Mlle.', 'Mme.', 'Lady.'], 'Female')\n",
    "dataset['title'] = dataset['title'].replace(['Master.', 'Dr.', 'Rev.', 'Col.', 'Major.', 'the', 'Dona.', \n",
    "                                             'Jonkheer.', 'Don.', 'Capt.', 'Sir.'], 'Rare')\n",
    "g = sns.factorplot(x='title', y='Survived', data=dataset, kind='bar')"
   ]
  },
  {
   "cell_type": "code",
   "execution_count": 25,
   "metadata": {},
   "outputs": [],
   "source": [
    "dataset['title'] = dataset['title'].astype('category')\n",
    "dataset = pd.get_dummies(dataset, columns = ['title'], prefix='title')"
   ]
  },
  {
   "cell_type": "markdown",
   "metadata": {},
   "source": [
    "### Embarked"
   ]
  },
  {
   "cell_type": "code",
   "execution_count": 26,
   "metadata": {},
   "outputs": [
    {
     "data": {
      "image/png": "[encoded data removed]",
      "text/plain": [
       "<Figure size 360x360 with 1 Axes>"
      ]
     },
     "metadata": {
      "needs_background": "light"
     },
     "output_type": "display_data"
    }
   ],
   "source": [
    "g = sns.factorplot(x='Embarked', y='Survived', data=dataset, kind='bar')\n",
    "g = g.set_ylabels('Survival proportion')"
   ]
  },
  {
   "cell_type": "markdown",
   "metadata": {},
   "source": [
    "It appears that the port where passengers embarked is correlated with their survival. I Therefore, I am also adding dummy variables to use this information for predictions."
   ]
  },
  {
   "cell_type": "code",
   "execution_count": 27,
   "metadata": {},
   "outputs": [],
   "source": [
    "dataset['Embarked'] = dataset['Embarked'].astype('category')\n",
    "dataset = pd.get_dummies(dataset, columns = ['Embarked'], prefix='Emb')"
   ]
  },
  {
   "cell_type": "markdown",
   "metadata": {},
   "source": [
    "### Cabin"
   ]
  },
  {
   "cell_type": "markdown",
   "metadata": {},
   "source": [
    "I decided to retain only the deck information, where *X* indicates missing cabin information."
   ]
  },
  {
   "cell_type": "code",
   "execution_count": 28,
   "metadata": {},
   "outputs": [
    {
     "data": {
      "image/png": "[encoded data removed]",
      "text/plain": [
       "<Figure size 360x360 with 1 Axes>"
      ]
     },
     "metadata": {
      "needs_background": "light"
     },
     "output_type": "display_data"
    }
   ],
   "source": [
    "dataset['Cabin'] = dataset.Cabin.str[0]\n",
    "g = sns.factorplot(x='Cabin', y='Survived', data=dataset, kind='bar')\n",
    "g = g.set_ylabels('Survival proportion')"
   ]
  },
  {
   "cell_type": "markdown",
   "metadata": {},
   "source": [
    "The deck also seems to be somehow linked to survival, so I will add dummy variables."
   ]
  },
  {
   "cell_type": "code",
   "execution_count": 29,
   "metadata": {},
   "outputs": [],
   "source": [
    "dataset['Cabin'] = dataset['Cabin'].astype('category')\n",
    "dataset = pd.get_dummies(dataset, columns = ['Cabin'], prefix='Cab')"
   ]
  },
  {
   "cell_type": "markdown",
   "metadata": {},
   "source": [
    "### Final cleaning and preparing\n",
    "\n",
    "At last, I will remove all non-needed columns: "
   ]
  },
  {
   "cell_type": "code",
   "execution_count": 30,
   "metadata": {},
   "outputs": [
    {
     "data": {
      "text/plain": [
       "Index(['Age', 'Fare', 'Parch', 'Sex', 'SibSp', 'Survived', 'minor', 'adult',\n",
       "       'PC_1', 'PC_2', 'PC_3', 'fam_size', 'single', 'med_fam_size',\n",
       "       'large_fam_size', 'high_fare', 'title_Female', 'title_Mr.',\n",
       "       'title_Rare', 'Emb_C', 'Emb_Q', 'Emb_S', 'Cab_A', 'Cab_B', 'Cab_C',\n",
       "       'Cab_D', 'Cab_E', 'Cab_F', 'Cab_G', 'Cab_T', 'Cab_X'],\n",
       "      dtype='object')"
      ]
     },
     "execution_count": 30,
     "metadata": {},
     "output_type": "execute_result"
    }
   ],
   "source": [
    "dataset.drop(labels = ['PassengerId', 'Name', 'Ticket'], axis = 1, inplace = True)\n",
    "dataset.columns"
   ]
  },
  {
   "cell_type": "markdown",
   "metadata": {},
   "source": [
    "Furthermore, I am scaling the numerical (non-dummy) features using a MinMaxScaler, which will cause all features to be in the range [0, 1] afterwards."
   ]
  },
  {
   "cell_type": "code",
   "execution_count": 31,
   "metadata": {},
   "outputs": [],
   "source": [
    "numerical_features = ['Age', 'Fare', 'Parch', 'SibSp', 'fam_size']\n",
    "for nm in numerical_features:\n",
    "    dataset[nm] = MinMaxScaler().fit_transform(dataset[[nm]])"
   ]
  },
  {
   "cell_type": "markdown",
   "metadata": {},
   "source": [
    "## 3. Feature Selection\n",
    "\n",
    "With feature engineering being done, it is time to select the features used for Survival prediction. After splitting features and labels, I first apply a variance filter to remove features below a certain variance threshold."
   ]
  },
  {
   "cell_type": "code",
   "execution_count": 32,
   "metadata": {},
   "outputs": [
    {
     "name": "stdout",
     "output_type": "stream",
     "text": [
      "Remaining features after applying variance threshold 0.1: ['Sex', 'minor', 'adult', 'PC_1', 'PC_2', 'PC_3', 'single', 'med_fam_size', 'high_fare', 'title_Female', 'title_Mr.', 'Emb_C', 'Emb_S', 'Cab_X']\n"
     ]
    }
   ],
   "source": [
    "# Separate features and (training) labels\n",
    "X = dataset.copy().drop(labels = [\"Survived\"], axis=1)\n",
    "Y_train = dataset[:train_len].Survived\n",
    "\n",
    "# Applying a variance filter\n",
    "var_threshold = 0.1\n",
    "selector = VarianceThreshold(threshold=var_threshold).fit(X)\n",
    "X = X.loc[:, selector.get_support()]\n",
    "print('Remaining features after applying variance threshold %s:' % var_threshold, list(X.columns))"
   ]
  },
  {
   "cell_type": "markdown",
   "metadata": {},
   "source": [
    "Next, I am considering the results of a chi2-test and an ANOVA F-test to determine the expressiveness of the remaining features. "
   ]
  },
  {
   "cell_type": "code",
   "execution_count": 33,
   "metadata": {},
   "outputs": [
    {
     "data": {
      "text/html": [
       "<div>\n",
       "<style scoped>\n",
       "    .dataframe tbody tr th:only-of-type {\n",
       "        vertical-align: middle;\n",
       "    }\n",
       "\n",
       "    .dataframe tbody tr th {\n",
       "        vertical-align: top;\n",
       "    }\n",
       "\n",
       "    .dataframe thead th {\n",
       "        text-align: right;\n",
       "    }\n",
       "</style>\n",
       "<table border=\"1\" class=\"dataframe\">\n",
       "  <thead>\n",
       "    <tr style=\"text-align: right;\">\n",
       "      <th></th>\n",
       "      <th>feature</th>\n",
       "      <th>chi2</th>\n",
       "      <th>chi2_p_val</th>\n",
       "      <th>anova_F</th>\n",
       "      <th>anova_p_val</th>\n",
       "    </tr>\n",
       "  </thead>\n",
       "  <tbody>\n",
       "    <tr>\n",
       "      <th>0</th>\n",
       "      <td>Sex</td>\n",
       "      <td>170.348127</td>\n",
       "      <td>6.210585e-39</td>\n",
       "      <td>372.405724</td>\n",
       "      <td>1.406066e-69</td>\n",
       "    </tr>\n",
       "    <tr>\n",
       "      <th>9</th>\n",
       "      <td>title_Female</td>\n",
       "      <td>167.703935</td>\n",
       "      <td>2.347846e-38</td>\n",
       "      <td>362.485350</td>\n",
       "      <td>4.745974e-68</td>\n",
       "    </tr>\n",
       "    <tr>\n",
       "      <th>10</th>\n",
       "      <td>title_Mr.</td>\n",
       "      <td>112.805785</td>\n",
       "      <td>2.379805e-26</td>\n",
       "      <td>383.945495</td>\n",
       "      <td>2.428783e-71</td>\n",
       "    </tr>\n",
       "    <tr>\n",
       "      <th>3</th>\n",
       "      <td>PC_1</td>\n",
       "      <td>55.175151</td>\n",
       "      <td>1.102538e-13</td>\n",
       "      <td>79.136403</td>\n",
       "      <td>3.190582e-18</td>\n",
       "    </tr>\n",
       "    <tr>\n",
       "      <th>7</th>\n",
       "      <td>med_fam_size</td>\n",
       "      <td>46.912822</td>\n",
       "      <td>7.421558e-12</td>\n",
       "      <td>75.541509</td>\n",
       "      <td>1.702390e-17</td>\n",
       "    </tr>\n",
       "    <tr>\n",
       "      <th>5</th>\n",
       "      <td>PC_3</td>\n",
       "      <td>41.553071</td>\n",
       "      <td>1.147141e-10</td>\n",
       "      <td>103.057599</td>\n",
       "      <td>5.510281e-23</td>\n",
       "    </tr>\n",
       "    <tr>\n",
       "      <th>13</th>\n",
       "      <td>Cab_X</td>\n",
       "      <td>20.488314</td>\n",
       "      <td>5.999642e-06</td>\n",
       "      <td>99.253142</td>\n",
       "      <td>3.090891e-22</td>\n",
       "    </tr>\n",
       "    <tr>\n",
       "      <th>11</th>\n",
       "      <td>Emb_C</td>\n",
       "      <td>20.464401</td>\n",
       "      <td>6.075071e-06</td>\n",
       "      <td>25.895987</td>\n",
       "      <td>4.397151e-07</td>\n",
       "    </tr>\n",
       "    <tr>\n",
       "      <th>6</th>\n",
       "      <td>single</td>\n",
       "      <td>14.640793</td>\n",
       "      <td>1.300685e-04</td>\n",
       "      <td>38.353651</td>\n",
       "      <td>9.009490e-10</td>\n",
       "    </tr>\n",
       "    <tr>\n",
       "      <th>8</th>\n",
       "      <td>high_fare</td>\n",
       "      <td>13.097711</td>\n",
       "      <td>2.956568e-04</td>\n",
       "      <td>79.262652</td>\n",
       "      <td>3.008766e-18</td>\n",
       "    </tr>\n",
       "    <tr>\n",
       "      <th>1</th>\n",
       "      <td>minor</td>\n",
       "      <td>8.204610</td>\n",
       "      <td>4.178409e-03</td>\n",
       "      <td>9.637873</td>\n",
       "      <td>1.966420e-03</td>\n",
       "    </tr>\n",
       "    <tr>\n",
       "      <th>4</th>\n",
       "      <td>PC_2</td>\n",
       "      <td>6.160767</td>\n",
       "      <td>1.306146e-02</td>\n",
       "      <td>7.814805</td>\n",
       "      <td>5.293655e-03</td>\n",
       "    </tr>\n",
       "    <tr>\n",
       "      <th>12</th>\n",
       "      <td>Emb_S</td>\n",
       "      <td>5.489205</td>\n",
       "      <td>1.913424e-02</td>\n",
       "      <td>20.374460</td>\n",
       "      <td>7.223241e-06</td>\n",
       "    </tr>\n",
       "    <tr>\n",
       "      <th>2</th>\n",
       "      <td>adult</td>\n",
       "      <td>1.351348</td>\n",
       "      <td>2.450427e-01</td>\n",
       "      <td>9.637873</td>\n",
       "      <td>1.966420e-03</td>\n",
       "    </tr>\n",
       "  </tbody>\n",
       "</table>\n",
       "</div>"
      ],
      "text/plain": [
       "         feature        chi2    chi2_p_val     anova_F   anova_p_val\n",
       "0            Sex  170.348127  6.210585e-39  372.405724  1.406066e-69\n",
       "9   title_Female  167.703935  2.347846e-38  362.485350  4.745974e-68\n",
       "10     title_Mr.  112.805785  2.379805e-26  383.945495  2.428783e-71\n",
       "3           PC_1   55.175151  1.102538e-13   79.136403  3.190582e-18\n",
       "7   med_fam_size   46.912822  7.421558e-12   75.541509  1.702390e-17\n",
       "5           PC_3   41.553071  1.147141e-10  103.057599  5.510281e-23\n",
       "13         Cab_X   20.488314  5.999642e-06   99.253142  3.090891e-22\n",
       "11         Emb_C   20.464401  6.075071e-06   25.895987  4.397151e-07\n",
       "6         single   14.640793  1.300685e-04   38.353651  9.009490e-10\n",
       "8      high_fare   13.097711  2.956568e-04   79.262652  3.008766e-18\n",
       "1          minor    8.204610  4.178409e-03    9.637873  1.966420e-03\n",
       "4           PC_2    6.160767  1.306146e-02    7.814805  5.293655e-03\n",
       "12         Emb_S    5.489205  1.913424e-02   20.374460  7.223241e-06\n",
       "2          adult    1.351348  2.450427e-01    9.637873  1.966420e-03"
      ]
     },
     "execution_count": 33,
     "metadata": {},
     "output_type": "execute_result"
    }
   ],
   "source": [
    "# computer chi2 and ANOVA test results\n",
    "chi2_results = chi2(X[:train_len], Y_train)\n",
    "anova_results = f_classif(X[:train_len], Y_train)\n",
    "\n",
    "# summarize results in a DataFrame\n",
    "df = pd.DataFrame({'feature': X.columns, 'chi2': chi2_results[0], 'chi2_p_val': chi2_results[1],\n",
    "                   'anova_F': anova_results[0], 'anova_p_val': anova_results[1]})\n",
    "df.sort_values('chi2', ascending=False)"
   ]
  },
  {
   "cell_type": "markdown",
   "metadata": {},
   "source": [
    "Taking the results of both tests into account, I am deciding to drop adult, Emb_S and PC_2.\n",
    "\n",
    "Finally, I will have a look at feature correlations, to ensure that all remaining features are sufficiently different from each other."
   ]
  },
  {
   "cell_type": "code",
   "execution_count": 34,
   "metadata": {},
   "outputs": [
    {
     "data": {
      "image/png": "[encoded data removed]",
      "text/plain": [
       "<Figure size 720x432 with 2 Axes>"
      ]
     },
     "metadata": {
      "needs_background": "light"
     },
     "output_type": "display_data"
    }
   ],
   "source": [
    "X.drop(labels = ['adult', 'Emb_S', 'PC_2'], axis=1, inplace=True)\n",
    "fig, ax = plt.subplots(figsize=(10,6))\n",
    "g = sns.heatmap(X.corr(), annot=True, fmt = \".2f\", cmap = \"coolwarm\", ax=ax)"
   ]
  },
  {
   "cell_type": "markdown",
   "metadata": {},
   "source": [
    "As can be seen, *title_Female* correspondands exactly to *Sex*. Fair enough, this is not very surprising, and I will drop *title_Female* as a result."
   ]
  },
  {
   "cell_type": "code",
   "execution_count": 35,
   "metadata": {},
   "outputs": [
    {
     "name": "stdout",
     "output_type": "stream",
     "text": [
      "Selected features: ['Sex', 'minor', 'PC_1', 'PC_3', 'single', 'med_fam_size', 'high_fare', 'title_Mr.', 'Emb_C', 'Cab_X']\n"
     ]
    }
   ],
   "source": [
    "X.drop(labels = ['title_Female'], axis=1, inplace=True)\n",
    "\n",
    "## Separate the features dataset into train set and test set\n",
    "X_train = X[:train_len]\n",
    "X_test = X[train_len:]\n",
    "print('Selected features:', list(X_train.columns))"
   ]
  },
  {
   "cell_type": "markdown",
   "metadata": {},
   "source": [
    "## 4. Modelling\n",
    "\n",
    "I decided to try the following popular classifiers and evaluate the mean accuracy of each of them using a stratified kfold cross validation procedure.\n",
    "\n",
    "* Logistic regression\n",
    "* Naive Bayes\n",
    "* k-Nearest Neighbors\n",
    "* Decision Tree\n",
    "* Support Vector Machine\n",
    "* Random Forest\n",
    "* Extra Trees\n",
    "* AdaBoost \n",
    "* Gradient Boosting"
   ]
  },
  {
   "cell_type": "code",
   "execution_count": 36,
   "metadata": {},
   "outputs": [],
   "source": [
    "kfold = StratifiedKFold(n_splits=5)\n",
    "random_state = 42\n",
    "\n",
    "classifiers = []\n",
    "classifiers.append(LogisticRegression(random_state = random_state))\n",
    "classifiers.append(GaussianNB())\n",
    "classifiers.append(KNeighborsClassifier())\n",
    "classifiers.append(DecisionTreeClassifier(random_state=random_state))\n",
    "classifiers.append(SVC(random_state=random_state))\n",
    "classifiers.append(RandomForestClassifier(random_state=random_state))\n",
    "classifiers.append(ExtraTreesClassifier(random_state=random_state))\n",
    "classifiers.append(AdaBoostClassifier(DecisionTreeClassifier(random_state=random_state),\n",
    "                                      random_state=random_state, learning_rate=0.1))\n",
    "classifiers.append(GradientBoostingClassifier(random_state=random_state))\n",
    "\n",
    "cv_results = []\n",
    "for classifier in classifiers :\n",
    "    cv_results.append(cross_val_score(classifier, X_train, y=Y_train, scoring=\"accuracy\", cv=kfold, n_jobs=2))\n",
    "\n",
    "cv_means = []\n",
    "cv_std = []\n",
    "for cv_result in cv_results:\n",
    "    cv_means.append(cv_result.mean())\n",
    "    cv_std.append(cv_result.std())"
   ]
  },
  {
   "cell_type": "code",
   "execution_count": 37,
   "metadata": {},
   "outputs": [
    {
     "data": {
      "image/png": "[encoded data removed]",
      "text/plain": [
       "<Figure size 432x288 with 1 Axes>"
      ]
     },
     "metadata": {
      "needs_background": "light"
     },
     "output_type": "display_data"
    }
   ],
   "source": [
    "names = ['Logistic regression', 'Naive Bayes', 'k-Nearest Neighbors', 'Decision Tree', 'Support Vector Machine', \n",
    "         'Random Forest', 'Extra Trees', 'AdaBoost', 'Gradient Boosting']\n",
    "    \n",
    "cv_res = pd.DataFrame({'name': names, 'mean': cv_means, 'std': cv_std})\n",
    "cv_res.plot(kind='barh', x='name', y='mean', xerr='std', legend=False)\n",
    "plt.ylabel('')\n",
    "plt.show()"
   ]
  },
  {
   "cell_type": "markdown",
   "metadata": {},
   "source": [
    "Not too bad! I decided to further assess Support Vector Machine, Logistic Regression, Random Forest, AdaBoost and Gradient Boosting via grid search to optimize their parameters. Eventually, I will also use all of them for an ensemble classifier. "
   ]
  },
  {
   "cell_type": "code",
   "execution_count": 38,
   "metadata": {},
   "outputs": [],
   "source": [
    "def save_prediction(model, prefix, testset=X_test):\n",
    "    pred = pd.Series(model.predict(testset), name=\"Survived\").astype(int)\n",
    "    results = pd.concat([test_ids, pred],axis=1)\n",
    "    results.to_csv(prefix + '_submission.csv', index=False)\n",
    "    \n",
    "def myGridSearch(model, params):\n",
    "    gs = GridSearchCV(model, param_grid=params, cv=kfold, scoring=\"accuracy\", n_jobs= 2, verbose = 1)\n",
    "    gs.fit(X_train, Y_train)\n",
    "    best_model = gs.best_estimator_\n",
    "    score = gs.best_score_\n",
    "    print('Best accuracy score:', score)\n",
    "    \n",
    "    return (best_model, score)"
   ]
  },
  {
   "cell_type": "markdown",
   "metadata": {},
   "source": [
    "### Support Vector Machine"
   ]
  },
  {
   "cell_type": "code",
   "execution_count": 39,
   "metadata": {},
   "outputs": [
    {
     "name": "stdout",
     "output_type": "stream",
     "text": [
      "Fitting 5 folds for each of 400 candidates, totalling 2000 fits\n"
     ]
    },
    {
     "name": "stderr",
     "output_type": "stream",
     "text": [
      "[Parallel(n_jobs=2)]: Using backend LokyBackend with 2 concurrent workers.\n",
      "[Parallel(n_jobs=2)]: Done  88 tasks      | elapsed:    3.5s\n",
      "[Parallel(n_jobs=2)]: Done 388 tasks      | elapsed:   15.8s\n",
      "[Parallel(n_jobs=2)]: Done 888 tasks      | elapsed:   38.4s\n",
      "[Parallel(n_jobs=2)]: Done 1588 tasks      | elapsed:  1.3min\n"
     ]
    },
    {
     "name": "stdout",
     "output_type": "stream",
     "text": [
      "Best accuracy score: 0.8305274971941639\n"
     ]
    },
    {
     "name": "stderr",
     "output_type": "stream",
     "text": [
      "[Parallel(n_jobs=2)]: Done 2000 out of 2000 | elapsed:  2.0min finished\n"
     ]
    }
   ],
   "source": [
    "svc_param_grid = {'kernel': ['rbf'], 'gamma': np.logspace(-3, 0, 20), 'C': np.logspace(0, 3, 20)}\n",
    "\n",
    "svc = SVC(probability=True)\n",
    "svc_best, svc_score = myGridSearch(svc, svc_param_grid)\n",
    "save_prediction(svc_best, 'svc')"
   ]
  },
  {
   "cell_type": "markdown",
   "metadata": {},
   "source": [
    "### Logistic Regression"
   ]
  },
  {
   "cell_type": "code",
   "execution_count": 40,
   "metadata": {},
   "outputs": [
    {
     "name": "stderr",
     "output_type": "stream",
     "text": [
      "[Parallel(n_jobs=2)]: Using backend LokyBackend with 2 concurrent workers.\n"
     ]
    },
    {
     "name": "stdout",
     "output_type": "stream",
     "text": [
      "Fitting 5 folds for each of 120 candidates, totalling 600 fits\n",
      "Best accuracy score: 0.8249158249158249\n"
     ]
    },
    {
     "name": "stderr",
     "output_type": "stream",
     "text": [
      "[Parallel(n_jobs=2)]: Done 600 out of 600 | elapsed:    4.0s finished\n"
     ]
    }
   ],
   "source": [
    "lg_param_grid = {'C': np.logspace(-3, 3, 20), 'penalty': ['l1', 'l2', 'elasticnet'],\n",
    "                 'class_weight': [None, 'balanced']}\n",
    "\n",
    "lg = LogisticRegression(solver='saga', l1_ratio=0.5)\n",
    "lg_best, lg_score = myGridSearch(lg, lg_param_grid)\n",
    "save_prediction(lg_best, 'lg')"
   ]
  },
  {
   "cell_type": "markdown",
   "metadata": {},
   "source": [
    "### Random Forest"
   ]
  },
  {
   "cell_type": "code",
   "execution_count": 41,
   "metadata": {},
   "outputs": [
    {
     "name": "stderr",
     "output_type": "stream",
     "text": [
      "[Parallel(n_jobs=2)]: Using backend LokyBackend with 2 concurrent workers.\n"
     ]
    },
    {
     "name": "stdout",
     "output_type": "stream",
     "text": [
      "Fitting 5 folds for each of 288 candidates, totalling 1440 fits\n"
     ]
    },
    {
     "name": "stderr",
     "output_type": "stream",
     "text": [
      "[Parallel(n_jobs=2)]: Done  88 tasks      | elapsed:    5.2s\n",
      "[Parallel(n_jobs=2)]: Done 388 tasks      | elapsed:   23.4s\n",
      "[Parallel(n_jobs=2)]: Done 888 tasks      | elapsed:   55.0s\n"
     ]
    },
    {
     "name": "stdout",
     "output_type": "stream",
     "text": [
      "Best accuracy score: 0.8305274971941639\n"
     ]
    },
    {
     "name": "stderr",
     "output_type": "stream",
     "text": [
      "[Parallel(n_jobs=2)]: Done 1440 out of 1440 | elapsed:  1.6min finished\n"
     ]
    }
   ],
   "source": [
    "rf_param_grid = {'max_depth': [3, 4, 6, 8], 'max_features': [3, 5], 'min_samples_split': [2, 3, 5], \n",
    "                 'min_samples_leaf': [1, 2, 3, 5], 'bootstrap': [True, False], 'n_estimators': [100], \n",
    "                 'max_features': [0.5, 0.8, None], 'criterion': ['gini']}\n",
    "\n",
    "rf = RandomForestClassifier()\n",
    "rf_best, rf_score = myGridSearch(rf, rf_param_grid)\n",
    "save_prediction(rf_best, 'rf')"
   ]
  },
  {
   "cell_type": "markdown",
   "metadata": {},
   "source": [
    "### AdaBoost"
   ]
  },
  {
   "cell_type": "code",
   "execution_count": 42,
   "metadata": {},
   "outputs": [
    {
     "name": "stdout",
     "output_type": "stream",
     "text": [
      "Fitting 5 folds for each of 240 candidates, totalling 1200 fits\n"
     ]
    },
    {
     "name": "stderr",
     "output_type": "stream",
     "text": [
      "[Parallel(n_jobs=2)]: Using backend LokyBackend with 2 concurrent workers.\n",
      "[Parallel(n_jobs=2)]: Done  88 tasks      | elapsed:    7.0s\n",
      "[Parallel(n_jobs=2)]: Done 388 tasks      | elapsed:   39.9s\n",
      "[Parallel(n_jobs=2)]: Done 888 tasks      | elapsed:  1.4min\n"
     ]
    },
    {
     "name": "stdout",
     "output_type": "stream",
     "text": [
      "Best accuracy score: 0.8159371492704826\n"
     ]
    },
    {
     "name": "stderr",
     "output_type": "stream",
     "text": [
      "[Parallel(n_jobs=2)]: Done 1200 out of 1200 | elapsed:  1.9min finished\n"
     ]
    }
   ],
   "source": [
    "ab_param_grid = {'base_estimator__criterion': ['gini', 'entropy'], 'base_estimator__splitter': ['best', 'random'],\n",
    "                 'algorithm': ['SAMME','SAMME.R'], 'n_estimators': [25, 50, 100], \n",
    "                 'learning_rate': np.logspace(-3, 1, 10)}\n",
    "\n",
    "dtc = DecisionTreeClassifier()\n",
    "ab = AdaBoostClassifier(dtc)\n",
    "ab_best, ab_score = myGridSearch(ab, ab_param_grid)\n",
    "save_prediction(ab_best, 'ab')"
   ]
  },
  {
   "cell_type": "markdown",
   "metadata": {},
   "source": [
    "### Gradient Boosting"
   ]
  },
  {
   "cell_type": "code",
   "execution_count": 43,
   "metadata": {},
   "outputs": [
    {
     "name": "stderr",
     "output_type": "stream",
     "text": [
      "[Parallel(n_jobs=2)]: Using backend LokyBackend with 2 concurrent workers.\n"
     ]
    },
    {
     "name": "stdout",
     "output_type": "stream",
     "text": [
      "Fitting 5 folds for each of 576 candidates, totalling 2880 fits\n"
     ]
    },
    {
     "name": "stderr",
     "output_type": "stream",
     "text": [
      "[Parallel(n_jobs=2)]: Done  88 tasks      | elapsed:    6.2s\n",
      "[Parallel(n_jobs=2)]: Done 388 tasks      | elapsed:   43.2s\n",
      "[Parallel(n_jobs=2)]: Done 663 tasks      | elapsed:  1.8min\n",
      "[Parallel(n_jobs=2)]: Done 1013 tasks      | elapsed:  2.5min\n",
      "[Parallel(n_jobs=2)]: Done 1463 tasks      | elapsed:  4.0min\n",
      "[Parallel(n_jobs=2)]: Done 2013 tasks      | elapsed:  5.4min\n",
      "[Parallel(n_jobs=2)]: Done 2663 tasks      | elapsed:  7.2min\n"
     ]
    },
    {
     "name": "stdout",
     "output_type": "stream",
     "text": [
      "Best accuracy score: 0.819304152637486\n"
     ]
    },
    {
     "name": "stderr",
     "output_type": "stream",
     "text": [
      "[Parallel(n_jobs=2)]: Done 2880 out of 2880 | elapsed:  8.1min finished\n"
     ]
    }
   ],
   "source": [
    "gb_param_grid = {'loss' : ['deviance'], 'n_estimators' : [100], 'learning_rate': [0.05, 0.1, 0.2, 0.3], \n",
    "                 'max_depth': [3, 4, 6, 8], 'min_samples_leaf': [1, 2], 'min_samples_split': [2, 3], \n",
    "                 'max_features': [0.5, 0.8, None], 'subsample': [0.8, 0.9, 1]}\n",
    "\n",
    "gb = GradientBoostingClassifier(random_state = random_state)\n",
    "gb_best, gb_score = myGridSearch(gb, gb_param_grid)\n",
    "save_prediction(gb_best, 'gb')"
   ]
  },
  {
   "cell_type": "markdown",
   "metadata": {},
   "source": [
    "### Ensemble classifier\n",
    "\n",
    "At last, I am combining the predictions to an ensemble prediction using a voting classifier."
   ]
  },
  {
   "cell_type": "code",
   "execution_count": 44,
   "metadata": {},
   "outputs": [
    {
     "data": {
      "text/plain": [
       "0.8383838383838383"
      ]
     },
     "execution_count": 44,
     "metadata": {},
     "output_type": "execute_result"
    }
   ],
   "source": [
    "from sklearn.ensemble import VotingClassifier\n",
    "\n",
    "models = [('svc', svc_best), ('lg', lg_best), ('rfc', rf_best), ('abc', ab_best), ('gbc', gb_best)]\n",
    "voting_model = VotingClassifier(estimators=models, voting='soft')\n",
    "voting_model.fit(X_train, Y_train)\n",
    "voting_predictions = voting_model.predict(X_train)\n",
    "save_prediction(voting_model, 'ensemble')\n",
    "accuracy_score(voting_predictions, Y_train)"
   ]
  },
  {
   "cell_type": "markdown",
   "metadata": {},
   "source": [
    "## 5. New Generation of Gradient Boosting\n",
    "\n",
    "Inspired by several data science articles, I decided to return to the Titanic dataset to experiment with some popular and newer algorithms often considered the *new generation of gradient boosting*:\n",
    "\n",
    "* [XGBoost](https://xgboost.readthedocs.io/en/latest/python/python_api.html)\n",
    "* [Catboost](https://catboost.ai/)\n",
    "* [LightGBM](https://lightgbm.readthedocs.io/en/latest/)"
   ]
  },
  {
   "cell_type": "code",
   "execution_count": 45,
   "metadata": {},
   "outputs": [],
   "source": [
    "#import packages\n",
    "import xgboost as xgb\n",
    "import lightgbm as lgb\n",
    "import catboost as cat"
   ]
  },
  {
   "cell_type": "markdown",
   "metadata": {},
   "source": [
    "### XGBoost\n",
    "\n",
    "XGBoost has an API similar to the one from sklearn and the data wrangling doen so far will probably fit the needs of XGBoost as well. As a first step, I will determine a good learning rate and number of estimators by fitting a model with early stopping for different learning rates and with temporarily fixed tree-based parameters."
   ]
  },
  {
   "cell_type": "code",
   "execution_count": 46,
   "metadata": {},
   "outputs": [
    {
     "name": "stdout",
     "output_type": "stream",
     "text": [
      "Early stopping value (rounds without improvement): 10\n",
      "Learning rate 0.01: Best iteration: 25, Accuracy: 0.8373, AUC Score: 0.8873\n",
      "Learning rate 0.03: Best iteration: 27, Accuracy: 0.8406, AUC Score: 0.8882\n",
      "Learning rate 0.05: Best iteration: 199, Accuracy: 0.8451, AUC Score: 0.9018\n",
      "Learning rate 0.1: Best iteration: 164, Accuracy: 0.8462, AUC Score: 0.9042\n",
      "Learning rate 0.15: Best iteration: 127, Accuracy: 0.8462, AUC Score: 0.9058\n",
      "Learning rate 0.2: Best iteration: 80, Accuracy: 0.8451, AUC Score: 0.9040\n",
      "Early stopping value (rounds without improvement): 100\n",
      "Learning rate 0.01: Best iteration: 2387, Accuracy: 0.8462, AUC Score: 0.9058\n",
      "Learning rate 0.03: Best iteration: 1091, Accuracy: 0.8462, AUC Score: 0.9065\n",
      "Learning rate 0.05: Best iteration: 1400, Accuracy: 0.8474, AUC Score: 0.9086\n",
      "Learning rate 0.1: Best iteration: 1400, Accuracy: 0.8462, AUC Score: 0.9096\n",
      "Learning rate 0.15: Best iteration: 428, Accuracy: 0.8474, AUC Score: 0.9085\n",
      "Learning rate 0.2: Best iteration: 853, Accuracy: 0.8474, AUC Score: 0.9098\n"
     ]
    }
   ],
   "source": [
    "for rounds in [10, 100]:\n",
    "    print('Early stopping value (rounds without improvement):', rounds)\n",
    "    learning_rate_results = []\n",
    "    for learning_rate in [0.01, 0.03, 0.05, 0.1, 0.15, 0.2]:\n",
    "        xgb1 = xgb.XGBClassifier(learning_rate=learning_rate, n_estimators=10000, max_depth=5, min_child_weight=1, gamma=0, \n",
    "                             subsample=0.8, colsample_bytree=0.8, objective= 'binary:logistic', nthread=4, \n",
    "                             scale_pos_weight=1, seed=42)\n",
    "\n",
    "        xgb1.fit(X_train, Y_train, eval_metric='auc', early_stopping_rounds=rounds, eval_set=[(X_train, Y_train)], verbose=0)\n",
    "\n",
    "        #Predict training set:\n",
    "        xgb_predictions = xgb1.predict(X_train)\n",
    "        xgb_predprob = xgb1.predict_proba(X_train)[:,1]\n",
    "\n",
    "        learning_rate_results.append((learning_rate, xgb1.best_iteration, accuracy_score(Y_train, xgb_predictions), \n",
    "                        roc_auc_score(Y_train, xgb_predprob)))\n",
    "\n",
    "    #Final report:\n",
    "    for res in learning_rate_results:\n",
    "        print(\"Learning rate {}: Best iteration: {}, Accuracy: {:.4f}, AUC Score: {:.4f}\".format(*res))"
   ]
  },
  {
   "cell_type": "markdown",
   "metadata": {},
   "source": [
    "It seems like the learning rates below 0.05 converge too quickly with early stopping threashold 10, while the other learning rates achieve results comparable to those with early stopping after 100 rounds.\n",
    "\n",
    "As a tradeoff, I will use a learning rate of 0.15 and 200 estimators in the following.\n",
    "\n",
    "Now, I will fine-tune other parameters."
   ]
  },
  {
   "cell_type": "code",
   "execution_count": 47,
   "metadata": {},
   "outputs": [
    {
     "name": "stdout",
     "output_type": "stream",
     "text": [
      "Fitting 5 folds for each of 20 candidates, totalling 100 fits\n"
     ]
    },
    {
     "name": "stderr",
     "output_type": "stream",
     "text": [
      "[Parallel(n_jobs=2)]: Using backend LokyBackend with 2 concurrent workers.\n",
      "[Parallel(n_jobs=2)]: Done  46 tasks      | elapsed:    7.6s\n"
     ]
    },
    {
     "name": "stdout",
     "output_type": "stream",
     "text": [
      "Best parameters: {'max_depth': 5, 'min_child_weight': 9}\n",
      "Best score: 0.8785510502353077\n"
     ]
    },
    {
     "name": "stderr",
     "output_type": "stream",
     "text": [
      "[Parallel(n_jobs=2)]: Done 100 out of 100 | elapsed:   15.5s finished\n"
     ]
    }
   ],
   "source": [
    "param_test_1 = {'max_depth': [3, 5, 7, 9], 'min_child_weight': [1, 3, 5, 7, 9]}\n",
    "\n",
    "xgb_clf = xgb.XGBClassifier(learning_rate=0.15, n_estimators=200, max_depth=5, min_child_weight=1, \n",
    "                        gamma=0, subsample=0.8, colsample_bytree=0.8, objective= 'binary:logistic', \n",
    "                        nthread=4, scale_pos_weight=1, seed=42)\n",
    "gsearch1 = GridSearchCV(estimator=xgb_clf, param_grid=param_test_1, scoring='roc_auc', cv=5, n_jobs= 2, verbose=1)\n",
    "gsearch1.fit(X_train, Y_train)\n",
    "print('Best parameters:', gsearch1.best_params_)\n",
    "print('Best score:', gsearch1.best_score_)"
   ]
  },
  {
   "cell_type": "code",
   "execution_count": 48,
   "metadata": {},
   "outputs": [
    {
     "name": "stderr",
     "output_type": "stream",
     "text": [
      "[Parallel(n_jobs=2)]: Using backend LokyBackend with 2 concurrent workers.\n"
     ]
    },
    {
     "name": "stdout",
     "output_type": "stream",
     "text": [
      "Fitting 5 folds for each of 15 candidates, totalling 75 fits\n"
     ]
    },
    {
     "name": "stderr",
     "output_type": "stream",
     "text": [
      "[Parallel(n_jobs=2)]: Done  46 tasks      | elapsed:    5.7s\n"
     ]
    },
    {
     "name": "stdout",
     "output_type": "stream",
     "text": [
      "Best parameters: {'max_depth': 5, 'min_child_weight': 10}\n",
      "Best score: 0.8808402075138694\n"
     ]
    },
    {
     "name": "stderr",
     "output_type": "stream",
     "text": [
      "[Parallel(n_jobs=2)]: Done  75 out of  75 | elapsed:    9.1s finished\n"
     ]
    }
   ],
   "source": [
    "param_test_1b = {'max_depth': [4, 5, 6], 'min_child_weight': [8, 9, 10, 11, 12]}\n",
    "\n",
    "xgb_clf = xgb.XGBClassifier(learning_rate=0.15, n_estimators=200, max_depth=5, min_child_weight=1, \n",
    "                        gamma=0, subsample=0.8, colsample_bytree=0.8, objective= 'binary:logistic', \n",
    "                        nthread=4, scale_pos_weight=1, seed=42)\n",
    "gsearch1 = GridSearchCV(estimator=xgb_clf, param_grid=param_test_1b, scoring='roc_auc', cv=5, n_jobs= 2, verbose=1)\n",
    "gsearch1.fit(X_train, Y_train)\n",
    "print('Best parameters:', gsearch1.best_params_)\n",
    "print('Best score:', gsearch1.best_score_)"
   ]
  },
  {
   "cell_type": "markdown",
   "metadata": {},
   "source": [
    "Due to these results, I will use max_depth=5 and min_child_weight=10 in the following."
   ]
  },
  {
   "cell_type": "code",
   "execution_count": 49,
   "metadata": {},
   "outputs": [
    {
     "name": "stdout",
     "output_type": "stream",
     "text": [
      "Fitting 5 folds for each of 10 candidates, totalling 50 fits\n"
     ]
    },
    {
     "name": "stderr",
     "output_type": "stream",
     "text": [
      "[Parallel(n_jobs=2)]: Using backend LokyBackend with 2 concurrent workers.\n",
      "[Parallel(n_jobs=2)]: Done  46 tasks      | elapsed:    5.4s\n",
      "[Parallel(n_jobs=2)]: Done  50 out of  50 | elapsed:    6.1s finished\n"
     ]
    },
    {
     "name": "stdout",
     "output_type": "stream",
     "text": [
      "Best parameters: {'gamma': 0.0}\n",
      "Best score: 0.8808402075138694\n"
     ]
    }
   ],
   "source": [
    "param_test_2 = {'gamma': [0.01 * i for i in range(10)]}\n",
    "\n",
    "xgb_clf = xgb.XGBClassifier(learning_rate=0.15, n_estimators=200, max_depth=5, min_child_weight=10, \n",
    "                        gamma=0, subsample=0.8, colsample_bytree=0.8, objective= 'binary:logistic', \n",
    "                        nthread=4, scale_pos_weight=1, seed=42)\n",
    "gsearch1 = GridSearchCV(estimator=xgb_clf, param_grid=param_test_2, scoring='roc_auc', cv=5, n_jobs= 2, verbose=1)\n",
    "gsearch1.fit(X_train, Y_train)\n",
    "print('Best parameters:', gsearch1.best_params_)\n",
    "print('Best score:', gsearch1.best_score_)"
   ]
  },
  {
   "cell_type": "code",
   "execution_count": 50,
   "metadata": {},
   "outputs": [
    {
     "name": "stdout",
     "output_type": "stream",
     "text": [
      "Fitting 5 folds for each of 10 candidates, totalling 50 fits\n"
     ]
    },
    {
     "name": "stderr",
     "output_type": "stream",
     "text": [
      "[Parallel(n_jobs=2)]: Using backend LokyBackend with 2 concurrent workers.\n",
      "[Parallel(n_jobs=2)]: Done  46 tasks      | elapsed:    5.1s\n"
     ]
    },
    {
     "name": "stdout",
     "output_type": "stream",
     "text": [
      "Best parameters: {'gamma': 0.007}\n",
      "Best score: 0.8808942370570346\n"
     ]
    },
    {
     "name": "stderr",
     "output_type": "stream",
     "text": [
      "[Parallel(n_jobs=2)]: Done  50 out of  50 | elapsed:    5.5s finished\n"
     ]
    }
   ],
   "source": [
    "param_test_2b = {'gamma': [0.001 * i for i in range(10)]}\n",
    "\n",
    "xgb_clf = xgb.XGBClassifier(learning_rate=0.15, n_estimators=200, max_depth=5, min_child_weight=10, \n",
    "                        gamma=0, subsample=0.8, colsample_bytree=0.8, objective= 'binary:logistic', \n",
    "                        nthread=4, scale_pos_weight=1, seed=42)\n",
    "gsearch1 = GridSearchCV(estimator=xgb_clf, param_grid=param_test_2b, scoring='roc_auc', cv=5, n_jobs= 2, verbose=1)\n",
    "gsearch1.fit(X_train, Y_train)\n",
    "print('Best parameters:', gsearch1.best_params_)\n",
    "print('Best score:', gsearch1.best_score_)"
   ]
  },
  {
   "cell_type": "markdown",
   "metadata": {},
   "source": [
    "Therefore, I am using gamme=0.007 in the following."
   ]
  },
  {
   "cell_type": "code",
   "execution_count": 51,
   "metadata": {},
   "outputs": [
    {
     "name": "stdout",
     "output_type": "stream",
     "text": [
      "Fitting 5 folds for each of 36 candidates, totalling 180 fits\n"
     ]
    },
    {
     "name": "stderr",
     "output_type": "stream",
     "text": [
      "[Parallel(n_jobs=2)]: Using backend LokyBackend with 2 concurrent workers.\n",
      "[Parallel(n_jobs=2)]: Done  46 tasks      | elapsed:    4.3s\n",
      "[Parallel(n_jobs=2)]: Done 180 out of 180 | elapsed:   19.2s finished\n"
     ]
    },
    {
     "name": "stdout",
     "output_type": "stream",
     "text": [
      "Best parameters: {'colsample_bytree': 0.8, 'subsample': 0.8}\n",
      "Best score: 0.8808942370570346\n"
     ]
    }
   ],
   "source": [
    "param_test_3 = {'subsample': [0.5, 0.6, 0.7, 0.8, 0.9, 1.0], 'colsample_bytree': [0.5, 0.6, 0.7, 0.8, 0.9, 1.0]}\n",
    "\n",
    "xgb_clf = xgb.XGBClassifier(learning_rate=0.15, n_estimators=200, max_depth=5, min_child_weight=10, \n",
    "                        gamma=0.007, subsample=0.8, colsample_bytree=0.8, objective= 'binary:logistic', \n",
    "                        nthread=4, scale_pos_weight=1, seed=42)\n",
    "gsearch1 = GridSearchCV(estimator=xgb_clf, param_grid=param_test_3, scoring='roc_auc', cv=5, n_jobs= 2, verbose=1)\n",
    "gsearch1.fit(X_train, Y_train)\n",
    "print('Best parameters:', gsearch1.best_params_)\n",
    "print('Best score:', gsearch1.best_score_)"
   ]
  },
  {
   "cell_type": "code",
   "execution_count": 52,
   "metadata": {},
   "outputs": [
    {
     "name": "stdout",
     "output_type": "stream",
     "text": [
      "Fitting 5 folds for each of 100 candidates, totalling 500 fits\n"
     ]
    },
    {
     "name": "stderr",
     "output_type": "stream",
     "text": [
      "[Parallel(n_jobs=2)]: Using backend LokyBackend with 2 concurrent workers.\n",
      "[Parallel(n_jobs=2)]: Done  46 tasks      | elapsed:    7.3s\n",
      "[Parallel(n_jobs=2)]: Done 196 tasks      | elapsed:   33.8s\n",
      "[Parallel(n_jobs=2)]: Done 446 tasks      | elapsed:  1.1min\n"
     ]
    },
    {
     "name": "stdout",
     "output_type": "stream",
     "text": [
      "Best parameters: {'colsample_bytree': 0.8, 'subsample': 0.8}\n",
      "Best score: 0.8808942370570346\n"
     ]
    },
    {
     "name": "stderr",
     "output_type": "stream",
     "text": [
      "[Parallel(n_jobs=2)]: Done 500 out of 500 | elapsed:  1.2min finished\n"
     ]
    }
   ],
   "source": [
    "param_test_3b = {'subsample': [0.75 + i*0.01 for i in range(10)], 'colsample_bytree': [0.75 + i*0.01 for i in range(10)]}\n",
    "\n",
    "xgb_clf = xgb.XGBClassifier(learning_rate=0.15, n_estimators=200, max_depth=5, min_child_weight=10, \n",
    "                        gamma=0.007, subsample=0.8, colsample_bytree=0.8, objective= 'binary:logistic', \n",
    "                        nthread=4, scale_pos_weight=1, seed=42)\n",
    "gsearch1 = GridSearchCV(estimator=xgb_clf, param_grid=param_test_3b, scoring='roc_auc', cv=5, n_jobs= 2, verbose=1)\n",
    "gsearch1.fit(X_train, Y_train)\n",
    "print('Best parameters:', gsearch1.best_params_)\n",
    "print('Best score:', gsearch1.best_score_)"
   ]
  },
  {
   "cell_type": "markdown",
   "metadata": {},
   "source": [
    "Obviously, I will stick to subsample=0.8 and colsample_bytree=0.8. At last, I will have a look at the regularization parameters reg_alpha and reg_lambda."
   ]
  },
  {
   "cell_type": "code",
   "execution_count": 53,
   "metadata": {},
   "outputs": [
    {
     "name": "stdout",
     "output_type": "stream",
     "text": [
      "Fitting 5 folds for each of 49 candidates, totalling 245 fits\n"
     ]
    },
    {
     "name": "stderr",
     "output_type": "stream",
     "text": [
      "[Parallel(n_jobs=2)]: Using backend LokyBackend with 2 concurrent workers.\n",
      "[Parallel(n_jobs=2)]: Done  46 tasks      | elapsed:    5.1s\n",
      "[Parallel(n_jobs=2)]: Done 196 tasks      | elapsed:   29.7s\n",
      "[Parallel(n_jobs=2)]: Done 245 out of 245 | elapsed:   35.3s finished\n"
     ]
    },
    {
     "name": "stdout",
     "output_type": "stream",
     "text": [
      "Best parameters: {'reg_alpha': 0.1, 'reg_lambda': 1}\n",
      "Best score: 0.8810242095742457\n"
     ]
    }
   ],
   "source": [
    "param_test_4 = {'reg_alpha': [0, 1e-6, 1e-4, 0.001, 0.01, 0.1, 1], 'reg_lambda': [0, 1e-6, 1e-4, 0.001, 0.01, 0.1, 1]}\n",
    "\n",
    "xgb_clf = xgb.XGBClassifier(learning_rate=0.15, n_estimators=200, max_depth=5, min_child_weight=10, \n",
    "                        gamma=0.007, subsample=0.8, colsample_bytree=0.8, objective= 'binary:logistic', \n",
    "                        nthread=4, scale_pos_weight=1, seed=42)\n",
    "gsearch1 = GridSearchCV(estimator=xgb_clf, param_grid=param_test_4, scoring='roc_auc', cv=5, n_jobs= 2, verbose=1)\n",
    "gsearch1.fit(X_train, Y_train)\n",
    "print('Best parameters:', gsearch1.best_params_)\n",
    "print('Best score:', gsearch1.best_score_)"
   ]
  },
  {
   "cell_type": "code",
   "execution_count": 54,
   "metadata": {},
   "outputs": [
    {
     "name": "stdout",
     "output_type": "stream",
     "text": [
      "Fitting 5 folds for each of 81 candidates, totalling 405 fits\n"
     ]
    },
    {
     "name": "stderr",
     "output_type": "stream",
     "text": [
      "[Parallel(n_jobs=2)]: Using backend LokyBackend with 2 concurrent workers.\n",
      "[Parallel(n_jobs=2)]: Done  46 tasks      | elapsed:    5.7s\n",
      "[Parallel(n_jobs=2)]: Done 196 tasks      | elapsed:   24.7s\n"
     ]
    },
    {
     "name": "stdout",
     "output_type": "stream",
     "text": [
      "Best parameters: {'reg_alpha': 0.1, 'reg_lambda': 1.0}\n",
      "Best score: 0.8810242095742457\n"
     ]
    },
    {
     "name": "stderr",
     "output_type": "stream",
     "text": [
      "[Parallel(n_jobs=2)]: Done 405 out of 405 | elapsed:   51.3s finished\n"
     ]
    }
   ],
   "source": [
    "param_test_4b = {'reg_alpha': np.logspace(-2, 0, 9), 'reg_lambda': np.logspace(-1, 1, 9)}\n",
    "\n",
    "xgb_clf = xgb.XGBClassifier(learning_rate=0.15, n_estimators=200, max_depth=5, min_child_weight=10, \n",
    "                        gamma=0.007, subsample=0.8, colsample_bytree=0.8, objective= 'binary:logistic', \n",
    "                        nthread=4, scale_pos_weight=1, seed=42)\n",
    "gsearch1 = GridSearchCV(estimator=xgb_clf, param_grid=param_test_4b, scoring='roc_auc', cv=5, n_jobs= 2, verbose=1)\n",
    "gsearch1.fit(X_train, Y_train)\n",
    "print('Best parameters:', gsearch1.best_params_)\n",
    "print('Best score:', gsearch1.best_score_)"
   ]
  },
  {
   "cell_type": "markdown",
   "metadata": {},
   "source": [
    "Hence, I will use reg_alpha=0.1 and reg_lambda=1.0 for the final model. Time for making predictions!"
   ]
  },
  {
   "cell_type": "code",
   "execution_count": 55,
   "metadata": {},
   "outputs": [],
   "source": [
    "xgb_clf = xgb.XGBClassifier(learning_rate=0.15, n_estimators=200, max_depth=5, min_child_weight=10, \n",
    "                        gamma=0.007, subsample=0.8, colsample_bytree=0.8, objective= 'binary:logistic', \n",
    "                        reg_alpha=0.1, reg_lambda=1.0, nthread=4, scale_pos_weight=1, seed=42)\n",
    "xgb_clf.fit(X_train, Y_train, eval_metric='auc', early_stopping_rounds=rounds, eval_set=[(X_train, Y_train)], verbose=0)\n",
    "\n",
    "save_prediction(xgb_clf, 'xgb')"
   ]
  },
  {
   "cell_type": "markdown",
   "metadata": {},
   "source": [
    "The model achieved 0.78947 accuracy on the test set. Interestingly, several blog posts indicate that eventually using a lower learning rate and a higher number of estimators is the [common approach](https://towardsdatascience.com/https-medium-com-talperetz24-mastering-the-new-generation-of-gradient-boosting-db04062a7ea2) for this type of algorithm. However, in this case testing XGBoost with learning_rate=0.03 and n_estimators=2000 resulted in a score of 0.7799."
   ]
  },
  {
   "cell_type": "markdown",
   "metadata": {},
   "source": [
    "### Catboost\n",
    "\n",
    "CatBoost is a gradient boosting library by the Russian company Yandex that is able to handle categorical data. This is very interesting, but requires additional data wrangling."
   ]
  },
  {
   "cell_type": "code",
   "execution_count": 56,
   "metadata": {},
   "outputs": [
    {
     "data": {
      "text/plain": [
       "Index(['Age', 'Fare', 'Parch', 'Sex', 'SibSp', 'Survived', 'minor', 'adult',\n",
       "       'PC_1', 'PC_2', 'PC_3', 'fam_size', 'single', 'med_fam_size',\n",
       "       'large_fam_size', 'high_fare', 'title_Female', 'title_Mr.',\n",
       "       'title_Rare', 'Emb_C', 'Emb_Q', 'Emb_S', 'Cab_A', 'Cab_B', 'Cab_C',\n",
       "       'Cab_D', 'Cab_E', 'Cab_F', 'Cab_G', 'Cab_T', 'Cab_X'],\n",
       "      dtype='object')"
      ]
     },
     "execution_count": 56,
     "metadata": {},
     "output_type": "execute_result"
    }
   ],
   "source": [
    "dataset.columns"
   ]
  },
  {
   "cell_type": "markdown",
   "metadata": {},
   "source": [
    "In the following, I will construct a dataset for CatBoost with all variables that were at least partially in the selected features for all algorithms above and I will reconstruct categorical variables where appropriate."
   ]
  },
  {
   "cell_type": "code",
   "execution_count": 57,
   "metadata": {},
   "outputs": [
    {
     "name": "stdout",
     "output_type": "stream",
     "text": [
      "<class 'pandas.core.frame.DataFrame'>\n",
      "RangeIndex: 1309 entries, 0 to 1308\n",
      "Data columns (total 8 columns):\n",
      "Sex          1309 non-null object\n",
      "high_fare    1309 non-null bool\n",
      "age_class    1309 non-null object\n",
      "PClass       1309 non-null object\n",
      "family       1309 non-null object\n",
      "title        1309 non-null object\n",
      "Embarked     1309 non-null object\n",
      "Cabin        1309 non-null object\n",
      "dtypes: bool(1), object(7)\n",
      "memory usage: 72.9+ KB\n"
     ]
    }
   ],
   "source": [
    "X_CB = dataset[['Sex', 'high_fare']]\n",
    "X_CB['Sex'] = X_CB['Sex'].map({0: 'male', 1: 'female'})\n",
    "X_CB['age_class'] = dataset[['minor', 'adult']].idxmax(axis=1)\n",
    "X_CB['PClass'] = dataset[['PC_1', 'PC_2', 'PC_3']].idxmax(axis=1)\n",
    "X_CB['family'] = dataset[['single', 'med_fam_size', 'large_fam_size']].idxmax(axis=1)\n",
    "X_CB['title'] = dataset[['title_Female', 'title_Mr.', 'title_Rare']].idxmax(axis=1)\n",
    "X_CB['Embarked'] = dataset[['Emb_C', 'Emb_Q', 'Emb_S']].idxmax(axis=1)\n",
    "X_CB['Cabin'] = dataset[['Cab_A', 'Cab_B', 'Cab_C', 'Cab_D', 'Cab_E', \n",
    "                         'Cab_F', 'Cab_G', 'Cab_T', 'Cab_X']].idxmax(axis=1)\n",
    "X_CB.info()"
   ]
  },
  {
   "cell_type": "code",
   "execution_count": 58,
   "metadata": {},
   "outputs": [
    {
     "name": "stdout",
     "output_type": "stream",
     "text": [
      "Available features: ['Sex', 'high_fare', 'age_class', 'PClass', 'family', 'title', 'Embarked', 'Cabin']\n"
     ]
    }
   ],
   "source": [
    "X_CB_train = X_CB[:train_len]\n",
    "X_CB_test = X_CB[train_len:]\n",
    "print('Available features:', list(X_CB_train.columns))"
   ]
  },
  {
   "cell_type": "markdown",
   "metadata": {},
   "source": [
    "Alright, let's move on to model training (using the same scheme as before):"
   ]
  },
  {
   "cell_type": "code",
   "execution_count": 59,
   "metadata": {},
   "outputs": [
    {
     "name": "stdout",
     "output_type": "stream",
     "text": [
      "Early stopping value (rounds without improvement): 10\n",
      "Learning rate 0.01: Best iteration: 26, Accuracy: 0.8238, AUC Score: 0.8775\n",
      "Learning rate 0.03: Best iteration: 9, Accuracy: 0.8126, AUC Score: 0.8702\n",
      "Learning rate 0.05: Best iteration: 39, Accuracy: 0.8350, AUC Score: 0.8831\n",
      "Learning rate 0.1: Best iteration: 47, Accuracy: 0.8361, AUC Score: 0.8857\n",
      "Learning rate 0.15: Best iteration: 70, Accuracy: 0.8350, AUC Score: 0.8929\n",
      "Learning rate 0.2: Best iteration: 22, Accuracy: 0.8350, AUC Score: 0.8911\n",
      "Early stopping value (rounds without improvement): 100\n",
      "Learning rate 0.01: Best iteration: 1202, Accuracy: 0.8350, AUC Score: 0.8935\n",
      "Learning rate 0.03: Best iteration: 467, Accuracy: 0.8350, AUC Score: 0.8941\n",
      "Learning rate 0.05: Best iteration: 473, Accuracy: 0.8373, AUC Score: 0.8961\n",
      "Learning rate 0.1: Best iteration: 216, Accuracy: 0.8395, AUC Score: 0.8937\n",
      "Learning rate 0.15: Best iteration: 217, Accuracy: 0.8418, AUC Score: 0.8961\n",
      "Learning rate 0.2: Best iteration: 220, Accuracy: 0.8384, AUC Score: 0.8982\n"
     ]
    }
   ],
   "source": [
    "for rounds in [10, 100]:\n",
    "    print('Early stopping value (rounds without improvement):', rounds)\n",
    "    learning_rate_results = []\n",
    "    for learning_rate in [0.01, 0.03, 0.05, 0.1, 0.15, 0.2]:\n",
    "        cat_clf = cat.CatBoostClassifier(learning_rate=learning_rate, iterations=10000, \n",
    "                                         eval_metric='AUC', random_seed=42)\n",
    "\n",
    "        cat_clf.fit(X_CB_train, Y_train, cat_features=range(len(X_CB_train.columns)),\n",
    "                    early_stopping_rounds=rounds, eval_set=[(X_CB_train, Y_train)], verbose=0)\n",
    "\n",
    "        #Predict training set:\n",
    "        cat_predictions = cat_clf.predict(X_CB_train)\n",
    "        cat_predprob = cat_clf.predict_proba(X_CB_train)[:,1]\n",
    "\n",
    "        learning_rate_results.append((learning_rate, cat_clf.best_iteration_, accuracy_score(Y_train, cat_predictions), \n",
    "                        roc_auc_score(Y_train, cat_predprob)))\n",
    "\n",
    "    #Final report:\n",
    "    for res in learning_rate_results:\n",
    "        print(\"Learning rate {}: Best iteration: {}, Accuracy: {:.4f}, AUC Score: {:.4f}\".format(*res))"
   ]
  },
  {
   "cell_type": "markdown",
   "metadata": {},
   "source": [
    "The results are quite similar to the ones of XGBoost. I will choose a learning_rate of 0.1 and 250 iterations in the following."
   ]
  },
  {
   "cell_type": "code",
   "execution_count": 60,
   "metadata": {},
   "outputs": [
    {
     "name": "stdout",
     "output_type": "stream",
     "text": [
      "Fitting 5 folds for each of 3 candidates, totalling 15 fits\n"
     ]
    },
    {
     "name": "stderr",
     "output_type": "stream",
     "text": [
      "[Parallel(n_jobs=2)]: Using backend LokyBackend with 2 concurrent workers.\n",
      "[Parallel(n_jobs=2)]: Done  15 out of  15 | elapsed:   55.9s finished\n"
     ]
    },
    {
     "name": "stdout",
     "output_type": "stream",
     "text": [
      "Best parameters: {'depth': 4}\n",
      "Best score: 0.8690796149434421\n"
     ]
    }
   ],
   "source": [
    "param_set = {'depth': [3, 4, 5]}\n",
    "\n",
    "cat_clf = cat.CatBoostClassifier(learning_rate=0.15, iterations=250, cat_features=range(len(X_CB_train.columns)), \n",
    "                                 eval_metric='AUC', random_seed=42, verbose=0)\n",
    "gsearch1 = GridSearchCV(estimator=cat_clf, param_grid=param_set, scoring='roc_auc', cv=5, n_jobs=2, verbose=1)\n",
    "gsearch1.fit(X_CB_train, Y_train)\n",
    "print('Best parameters:', gsearch1.best_params_)\n",
    "print('Best score:', gsearch1.best_score_)"
   ]
  },
  {
   "cell_type": "code",
   "execution_count": 61,
   "metadata": {},
   "outputs": [
    {
     "name": "stdout",
     "output_type": "stream",
     "text": [
      "Fitting 5 folds for each of 5 candidates, totalling 25 fits\n"
     ]
    },
    {
     "name": "stderr",
     "output_type": "stream",
     "text": [
      "[Parallel(n_jobs=2)]: Using backend LokyBackend with 2 concurrent workers.\n",
      "[Parallel(n_jobs=2)]: Done  25 out of  25 | elapsed:  1.5min finished\n"
     ]
    },
    {
     "name": "stdout",
     "output_type": "stream",
     "text": [
      "Best parameters: {'l2_leaf_reg': 3.0}\n",
      "Best score: 0.8690796149434421\n"
     ]
    }
   ],
   "source": [
    "param_set = {'l2_leaf_reg': [1.0 * i for i in range(1,6)]}\n",
    "\n",
    "cat_clf = cat.CatBoostClassifier(learning_rate=0.15, iterations=250, cat_features=range(len(X_CB_train.columns)), \n",
    "                                 eval_metric='AUC', random_seed=42, verbose=0, depth=4)\n",
    "gsearch1 = GridSearchCV(estimator=cat_clf, param_grid=param_set, scoring='roc_auc', cv=5, n_jobs=2, verbose=1)\n",
    "gsearch1.fit(X_CB_train, Y_train)\n",
    "print('Best parameters:', gsearch1.best_params_)\n",
    "print('Best score:', gsearch1.best_score_)"
   ]
  },
  {
   "cell_type": "code",
   "execution_count": 62,
   "metadata": {},
   "outputs": [
    {
     "name": "stdout",
     "output_type": "stream",
     "text": [
      "Fitting 5 folds for each of 5 candidates, totalling 25 fits\n"
     ]
    },
    {
     "name": "stderr",
     "output_type": "stream",
     "text": [
      "[Parallel(n_jobs=2)]: Using backend LokyBackend with 2 concurrent workers.\n",
      "[Parallel(n_jobs=2)]: Done  25 out of  25 | elapsed:  1.5min finished\n"
     ]
    },
    {
     "name": "stdout",
     "output_type": "stream",
     "text": [
      "Best parameters: {'l2_leaf_reg': 3.0}\n",
      "Best score: 0.8690796149434421\n"
     ]
    }
   ],
   "source": [
    "param_set = {'l2_leaf_reg': [1.0 * i for i in range(1,6)]}\n",
    "\n",
    "cat_clf = cat.CatBoostClassifier(learning_rate=0.15, iterations=250, cat_features=range(len(X_CB_train.columns)), \n",
    "                                 eval_metric='AUC', random_seed=42, verbose=0, depth=4)\n",
    "gsearch1 = GridSearchCV(estimator=cat_clf, param_grid=param_set, scoring='roc_auc', cv=5, n_jobs=2, verbose=1)\n",
    "gsearch1.fit(X_CB_train, Y_train)\n",
    "print('Best parameters:', gsearch1.best_params_)\n",
    "print('Best score:', gsearch1.best_score_)"
   ]
  },
  {
   "cell_type": "markdown",
   "metadata": {},
   "source": [
    "Due to the quite high runtime of GridSearch for Catboost, I will stop here. In addition, the website claims *Reduce time spent on parameter tuning, because CatBoost provides great results with default parameters*. Let's see!"
   ]
  },
  {
   "cell_type": "code",
   "execution_count": 63,
   "metadata": {},
   "outputs": [
    {
     "name": "stdout",
     "output_type": "stream",
     "text": [
      "Accuracy: 0.8316498316498316\n",
      "AUC score: 0.8969764271029729\n"
     ]
    }
   ],
   "source": [
    "cat_clf = cat.CatBoostClassifier(learning_rate=0.15, iterations=250, cat_features=range(len(X_CB_train.columns)), \n",
    "                                 eval_metric='AUC', depth=4, l2_leaf_reg=3.0, random_seed=42, verbose=0)\n",
    "\n",
    "cat_clf.fit(X_CB_train, Y_train, cat_features=range(len(X_CB_train.columns)),\n",
    "            eval_set=[(X_CB_train, Y_train)], verbose=0)\n",
    "\n",
    "#Predict training set:\n",
    "cat_predictions = cat_clf.predict(X_CB_train)\n",
    "cat_predprob = cat_clf.predict_proba(X_CB_train)[:,1]\n",
    "\n",
    "print('Accuracy:', accuracy_score(Y_train, cat_predictions))\n",
    "print('AUC score:', roc_auc_score(Y_train, cat_predprob))\n",
    "save_prediction(cat_clf, 'cat', testset=X_CB_test)"
   ]
  },
  {
   "cell_type": "markdown",
   "metadata": {},
   "source": [
    "Unfortunately, the model only scored only 0.77033 on the Kaggle submission."
   ]
  },
  {
   "cell_type": "markdown",
   "metadata": {},
   "source": [
    "### LightGBM\n",
    "\n",
    "LightGBM is a gradiant boosting library by Microsoft. Just like CatBoost, LightGBM is able to handle categorical variables. However, in contrast to CatBoost, LightGBM requires these variables to be encoded as integers."
   ]
  },
  {
   "cell_type": "code",
   "execution_count": 64,
   "metadata": {},
   "outputs": [
    {
     "data": {
      "text/html": [
       "<div>\n",
       "<style scoped>\n",
       "    .dataframe tbody tr th:only-of-type {\n",
       "        vertical-align: middle;\n",
       "    }\n",
       "\n",
       "    .dataframe tbody tr th {\n",
       "        vertical-align: top;\n",
       "    }\n",
       "\n",
       "    .dataframe thead th {\n",
       "        text-align: right;\n",
       "    }\n",
       "</style>\n",
       "<table border=\"1\" class=\"dataframe\">\n",
       "  <thead>\n",
       "    <tr style=\"text-align: right;\">\n",
       "      <th></th>\n",
       "      <th>high_fare</th>\n",
       "      <th>Sex</th>\n",
       "      <th>age_class</th>\n",
       "      <th>PClass</th>\n",
       "      <th>family</th>\n",
       "      <th>title</th>\n",
       "      <th>Embarked</th>\n",
       "      <th>Cabin</th>\n",
       "    </tr>\n",
       "  </thead>\n",
       "  <tbody>\n",
       "    <tr>\n",
       "      <th>0</th>\n",
       "      <td>True</td>\n",
       "      <td>1</td>\n",
       "      <td>0</td>\n",
       "      <td>2</td>\n",
       "      <td>1</td>\n",
       "      <td>1</td>\n",
       "      <td>2</td>\n",
       "      <td>8</td>\n",
       "    </tr>\n",
       "    <tr>\n",
       "      <th>1</th>\n",
       "      <td>False</td>\n",
       "      <td>0</td>\n",
       "      <td>0</td>\n",
       "      <td>0</td>\n",
       "      <td>1</td>\n",
       "      <td>0</td>\n",
       "      <td>0</td>\n",
       "      <td>2</td>\n",
       "    </tr>\n",
       "    <tr>\n",
       "      <th>2</th>\n",
       "      <td>True</td>\n",
       "      <td>0</td>\n",
       "      <td>0</td>\n",
       "      <td>2</td>\n",
       "      <td>2</td>\n",
       "      <td>0</td>\n",
       "      <td>2</td>\n",
       "      <td>8</td>\n",
       "    </tr>\n",
       "    <tr>\n",
       "      <th>3</th>\n",
       "      <td>False</td>\n",
       "      <td>0</td>\n",
       "      <td>0</td>\n",
       "      <td>0</td>\n",
       "      <td>1</td>\n",
       "      <td>0</td>\n",
       "      <td>2</td>\n",
       "      <td>2</td>\n",
       "    </tr>\n",
       "    <tr>\n",
       "      <th>4</th>\n",
       "      <td>True</td>\n",
       "      <td>1</td>\n",
       "      <td>0</td>\n",
       "      <td>2</td>\n",
       "      <td>2</td>\n",
       "      <td>1</td>\n",
       "      <td>2</td>\n",
       "      <td>8</td>\n",
       "    </tr>\n",
       "  </tbody>\n",
       "</table>\n",
       "</div>"
      ],
      "text/plain": [
       "   high_fare  Sex  age_class  PClass  family  title  Embarked  Cabin\n",
       "0       True    1          0       2       1      1         2      8\n",
       "1      False    0          0       0       1      0         0      2\n",
       "2       True    0          0       2       2      0         2      8\n",
       "3      False    0          0       0       1      0         2      2\n",
       "4       True    1          0       2       2      1         2      8"
      ]
     },
     "execution_count": 64,
     "metadata": {},
     "output_type": "execute_result"
    }
   ],
   "source": [
    "X_LG = X_CB[['high_fare']]\n",
    "for col in ['Sex', 'age_class', 'PClass', 'family', 'title', 'Embarked', 'Cabin']:\n",
    "    X_LG[col] = X_CB[col].astype('category').cat.codes\n",
    "    \n",
    "X_LG_train = X_LG[:train_len]\n",
    "X_LG_test = X_LG[train_len:]\n",
    "X_LG_train_mod = lgb.Dataset(X_LG_train, label=Y_train)\n",
    "X_LG_train.head()"
   ]
  },
  {
   "cell_type": "markdown",
   "metadata": {},
   "source": [
    "From here on, I will use the same approach as for XGBoost and CatBoost."
   ]
  },
  {
   "cell_type": "code",
   "execution_count": 65,
   "metadata": {},
   "outputs": [
    {
     "name": "stdout",
     "output_type": "stream",
     "text": [
      "Early stopping value (rounds without improvement): 10\n",
      "Learning rate 0.01: Best iteration: 72, Accuracy: 0.8249, AUC Score: 0.8836\n",
      "Learning rate 0.03: Best iteration: 276, Accuracy: 0.8507, AUC Score: 0.9035\n",
      "Learning rate 0.05: Best iteration: 397, Accuracy: 0.8608, AUC Score: 0.9134\n",
      "Learning rate 0.1: Best iteration: 179, Accuracy: 0.8586, AUC Score: 0.9118\n",
      "Learning rate 0.15: Best iteration: 333, Accuracy: 0.8620, AUC Score: 0.9172\n",
      "Learning rate 0.2: Best iteration: 357, Accuracy: 0.8642, AUC Score: 0.9184\n",
      "Early stopping value (rounds without improvement): 100\n",
      "Learning rate 0.01: Best iteration: 1847, Accuracy: 0.8586, AUC Score: 0.9121\n",
      "Learning rate 0.03: Best iteration: 3597, Accuracy: 0.8653, AUC Score: 0.9194\n",
      "Learning rate 0.05: Best iteration: 2138, Accuracy: 0.8653, AUC Score: 0.9195\n",
      "Learning rate 0.1: Best iteration: 3194, Accuracy: 0.8653, AUC Score: 0.9217\n",
      "Learning rate 0.15: Best iteration: 2239, Accuracy: 0.8653, AUC Score: 0.9218\n",
      "Learning rate 0.2: Best iteration: 1810, Accuracy: 0.8653, AUC Score: 0.9218\n"
     ]
    }
   ],
   "source": [
    "for rounds in [10, 100]:\n",
    "    print('Early stopping value (rounds without improvement):', rounds)\n",
    "    learning_rate_results = []\n",
    "    for learning_rate in [0.01, 0.03, 0.05, 0.1, 0.15, 0.2]:\n",
    "        lgb_params = {'learning_rate': learning_rate, 'n_estimators': 10000, 'max_depth': 50, \n",
    "                      'num_leaves': 900, 'metric': 'auc', 'seed': 42}\n",
    "        lgb_clf = lgb.train(lgb_params, X_LG_train_mod, categorical_feature=range(len(X_LG.columns)),\n",
    "                           early_stopping_rounds=rounds, valid_sets=X_LG_train_mod, verbose_eval=False)\n",
    "\n",
    "        learning_rate_results.append((learning_rate, lgb_clf.best_iteration, \n",
    "                                      accuracy_score(Y_train, np.round(lgb_clf.predict(X_LG_train))), \n",
    "                                      roc_auc_score(Y_train, lgb_clf.predict(X_LG_train))))\n",
    "\n",
    "    #Final report:\n",
    "    for res in learning_rate_results:\n",
    "        print(\"Learning rate {}: Best iteration: {}, Accuracy: {:.4f}, AUC Score: {:.4f}\".format(*res))"
   ]
  },
  {
   "cell_type": "markdown",
   "metadata": {},
   "source": [
    "The converging behaviour of LightGBM is indeed a little different from XGBoost and CatBoost. Based on these results I will use n_estimators=300 in the following and keep the default learning rate of 0.1."
   ]
  },
  {
   "cell_type": "code",
   "execution_count": 66,
   "metadata": {},
   "outputs": [
    {
     "name": "stdout",
     "output_type": "stream",
     "text": [
      "Fitting 5 folds for each of 81 candidates, totalling 405 fits\n"
     ]
    },
    {
     "name": "stderr",
     "output_type": "stream",
     "text": [
      "[Parallel(n_jobs=2)]: Using backend LokyBackend with 2 concurrent workers.\n",
      "[Parallel(n_jobs=2)]: Done  88 tasks      | elapsed:    3.8s\n",
      "[Parallel(n_jobs=2)]: Done 388 tasks      | elapsed:   18.1s\n",
      "[Parallel(n_jobs=2)]: Done 402 out of 405 | elapsed:   19.0s remaining:    0.0s\n",
      "[Parallel(n_jobs=2)]: Done 405 out of 405 | elapsed:   19.2s finished\n"
     ]
    },
    {
     "name": "stdout",
     "output_type": "stream",
     "text": [
      "Best parameters: {'max_depth': 3, 'num_leaves': 4}\n",
      "Best score: 0.874704063506178\n"
     ]
    }
   ],
   "source": [
    "param_set = {'num_leaves': range(2,11), 'max_depth': range(2,11)}\n",
    "\n",
    "lgb_clf = lgb.LGBMClassifier(learning_rate=0.1, n_estimators=300, metric='auc', seed=42)\n",
    "grid_search = GridSearchCV(lgb_clf, param_grid=param_set, cv=5, scoring=\"roc_auc\", n_jobs=2, verbose=1)\n",
    "grid_search.fit(X_train, Y_train)\n",
    "print('Best parameters:', grid_search.best_params_)\n",
    "print('Best score:', grid_search.best_score_)"
   ]
  },
  {
   "cell_type": "code",
   "execution_count": 67,
   "metadata": {},
   "outputs": [
    {
     "name": "stderr",
     "output_type": "stream",
     "text": [
      "[Parallel(n_jobs=2)]: Using backend LokyBackend with 2 concurrent workers.\n"
     ]
    },
    {
     "name": "stdout",
     "output_type": "stream",
     "text": [
      "Fitting 5 folds for each of 121 candidates, totalling 605 fits\n"
     ]
    },
    {
     "name": "stderr",
     "output_type": "stream",
     "text": [
      "[Parallel(n_jobs=2)]: Done  88 tasks      | elapsed:    4.1s\n",
      "[Parallel(n_jobs=2)]: Done 388 tasks      | elapsed:   16.9s\n"
     ]
    },
    {
     "name": "stdout",
     "output_type": "stream",
     "text": [
      "Best parameters: {'min_data_in_leaf': 0, 'min_sum_hessian_in_leaf': 14}\n",
      "Best score: 0.8777820210646147\n"
     ]
    },
    {
     "name": "stderr",
     "output_type": "stream",
     "text": [
      "[Parallel(n_jobs=2)]: Done 602 out of 605 | elapsed:   26.4s remaining:    0.0s\n",
      "[Parallel(n_jobs=2)]: Done 605 out of 605 | elapsed:   26.5s finished\n"
     ]
    }
   ],
   "source": [
    "param_set = {'min_data_in_leaf': range(11), 'min_sum_hessian_in_leaf': range(10, 21)}\n",
    "\n",
    "lgb_clf = lgb.LGBMClassifier(learning_rate=0.1, n_estimators=300, metric='auc', seed=42,\n",
    "                             max_depth=3, num_leaves=4)\n",
    "grid_search = GridSearchCV(lgb_clf, param_grid=param_set, cv=5, scoring=\"roc_auc\", n_jobs=2, verbose=1)\n",
    "grid_search.fit(X_train, Y_train)\n",
    "print('Best parameters:', grid_search.best_params_)\n",
    "print('Best score:', grid_search.best_score_)"
   ]
  },
  {
   "cell_type": "code",
   "execution_count": 68,
   "metadata": {},
   "outputs": [
    {
     "name": "stdout",
     "output_type": "stream",
     "text": [
      "Fitting 5 folds for each of 400 candidates, totalling 2000 fits\n"
     ]
    },
    {
     "name": "stderr",
     "output_type": "stream",
     "text": [
      "[Parallel(n_jobs=2)]: Using backend LokyBackend with 2 concurrent workers.\n",
      "[Parallel(n_jobs=2)]: Done  88 tasks      | elapsed:    3.0s\n",
      "[Parallel(n_jobs=2)]: Done 388 tasks      | elapsed:   13.8s\n",
      "[Parallel(n_jobs=2)]: Done 888 tasks      | elapsed:   33.7s\n",
      "[Parallel(n_jobs=2)]: Done 1588 tasks      | elapsed:  1.1min\n"
     ]
    },
    {
     "name": "stdout",
     "output_type": "stream",
     "text": [
      "Best parameters: {'colsample_bytree': 0.8, 'subsample': 0.05}\n",
      "Best score: 0.8780983981531243\n"
     ]
    },
    {
     "name": "stderr",
     "output_type": "stream",
     "text": [
      "[Parallel(n_jobs=2)]: Done 2000 out of 2000 | elapsed:  1.4min finished\n"
     ]
    }
   ],
   "source": [
    "param_set = {'subsample': [0.05*i for i in range(1,21)], 'colsample_bytree': [0.05*i for i in range(1,21)]}\n",
    "\n",
    "lgb_clf = lgb.LGBMClassifier(learning_rate=0.1, n_estimators=300, metric='auc', seed=42,\n",
    "                             max_depth=3, num_leaves=4, min_data_in_leaf=0, min_sum_hessian_in_leaf=14)\n",
    "grid_search = GridSearchCV(lgb_clf, param_grid=param_set, cv=5, scoring=\"roc_auc\", n_jobs=2, verbose=1)\n",
    "grid_search.fit(X_train, Y_train)\n",
    "print('Best parameters:', grid_search.best_params_)\n",
    "print('Best score:', grid_search.best_score_)"
   ]
  },
  {
   "cell_type": "code",
   "execution_count": 69,
   "metadata": {},
   "outputs": [
    {
     "name": "stderr",
     "output_type": "stream",
     "text": [
      "[Parallel(n_jobs=2)]: Using backend LokyBackend with 2 concurrent workers.\n"
     ]
    },
    {
     "name": "stdout",
     "output_type": "stream",
     "text": [
      "Fitting 5 folds for each of 49 candidates, totalling 245 fits\n"
     ]
    },
    {
     "name": "stderr",
     "output_type": "stream",
     "text": [
      "[Parallel(n_jobs=2)]: Done  88 tasks      | elapsed:    4.4s\n",
      "[Parallel(n_jobs=2)]: Done 242 out of 245 | elapsed:   13.7s remaining:    0.1s\n"
     ]
    },
    {
     "name": "stdout",
     "output_type": "stream",
     "text": [
      "Best parameters: {'reg_alpha': 0, 'reg_lambda': 0}\n",
      "Best score: 0.8780983981531243\n"
     ]
    },
    {
     "name": "stderr",
     "output_type": "stream",
     "text": [
      "[Parallel(n_jobs=2)]: Done 245 out of 245 | elapsed:   13.9s finished\n"
     ]
    }
   ],
   "source": [
    "param_set = {'reg_alpha': [0, 1e-6, 1e-4, 0.001, 0.01, 0.1, 1], 'reg_lambda': [0, 1e-6, 1e-4, 0.001, 0.01, 0.1, 1]}\n",
    "\n",
    "lgb_clf = lgb.LGBMClassifier(learning_rate=0.1, n_estimators=300, metric='auc', seed=42,\n",
    "                             max_depth=3, num_leaves=4, min_data_in_leaf=0, min_sum_hessian_in_leaf=14,\n",
    "                             subsample=0.05, colsample_bytree=0.8)\n",
    "grid_search = GridSearchCV(lgb_clf, param_grid=param_set, cv=5, scoring=\"roc_auc\", n_jobs=2, verbose=1)\n",
    "grid_search.fit(X_train, Y_train)\n",
    "print('Best parameters:', grid_search.best_params_)\n",
    "print('Best score:', grid_search.best_score_)"
   ]
  },
  {
   "cell_type": "code",
   "execution_count": 70,
   "metadata": {},
   "outputs": [
    {
     "name": "stderr",
     "output_type": "stream",
     "text": [
      "[Parallel(n_jobs=2)]: Using backend LokyBackend with 2 concurrent workers.\n"
     ]
    },
    {
     "name": "stdout",
     "output_type": "stream",
     "text": [
      "Fitting 5 folds for each of 60 candidates, totalling 300 fits\n"
     ]
    },
    {
     "name": "stderr",
     "output_type": "stream",
     "text": [
      "[Parallel(n_jobs=2)]: Done 172 tasks      | elapsed:   11.6s\n"
     ]
    },
    {
     "name": "stdout",
     "output_type": "stream",
     "text": [
      "Best parameters: {'learning_rate': 0.15, 'n_estimators': 300}\n",
      "Best score: 0.8793538386884445\n"
     ]
    },
    {
     "name": "stderr",
     "output_type": "stream",
     "text": [
      "[Parallel(n_jobs=2)]: Done 300 out of 300 | elapsed:   22.2s finished\n"
     ]
    }
   ],
   "source": [
    "param_set = {'learning_rate': [0.01*i for i in range(1,21)], 'n_estimators': [100, 300, 1000]}\n",
    "\n",
    "lgb_clf = lgb.LGBMClassifier(learning_rate=0.1, n_estimators=300, metric='auc', seed=42,\n",
    "                             max_depth=3, num_leaves=4, min_data_in_leaf=0, min_sum_hessian_in_leaf=14,\n",
    "                             subsample=0.05, colsample_bytree=0.8, reg_alpha=0, reg_lambda=0)\n",
    "grid_search = GridSearchCV(lgb_clf, param_grid=param_set, cv=5, scoring=\"roc_auc\", n_jobs=2, verbose=1)\n",
    "grid_search.fit(X_train, Y_train)\n",
    "print('Best parameters:', grid_search.best_params_)\n",
    "print('Best score:', grid_search.best_score_)"
   ]
  },
  {
   "cell_type": "markdown",
   "metadata": {},
   "source": [
    "Ok, time for evaluating the testset:"
   ]
  },
  {
   "cell_type": "code",
   "execution_count": 71,
   "metadata": {},
   "outputs": [
    {
     "name": "stdout",
     "output_type": "stream",
     "text": [
      "Accuracy: 0.8507295173961841\n",
      "AUC score: 0.9023237358727725\n"
     ]
    }
   ],
   "source": [
    "lgb_params = {'learning_rate' : 0.15, 'n_estimators': 300, 'metric': 'auc', 'seed': 42, 'max_depth': 3, \n",
    "              'num_leaves': 4, 'min_data_in_leaf': 0, 'min_sum_hessian_in_leaf': 14, 'subsample': 0.05, \n",
    "              'colsample_bytree': 0.8, 'reg_alpha': 0, 'reg_lambda': 0}\n",
    "X_LG_train_mod = lgb.Dataset(X_LG_train, label=Y_train)\n",
    "lgb_clf = lgb.train(lgb_params, X_LG_train_mod, categorical_feature=range(len(X_LG.columns)))\n",
    "print('Accuracy:', accuracy_score(Y_train, np.round(lgb_clf.predict(X_LG_train))))\n",
    "print('AUC score:', roc_auc_score(Y_train, lgb_clf.predict(X_LG_train)))\n",
    "\n",
    "pred = pd.Series(np.round(lgb_clf.predict(X_LG_test)), name=\"Survived\").astype(int)\n",
    "results = pd.concat([test_ids, pred],axis=1)\n",
    "results.to_csv('lgb_submission.csv', index=False)"
   ]
  },
  {
   "cell_type": "markdown",
   "metadata": {},
   "source": [
    "The Kaggle submission with LightGBM scored 0.77990."
   ]
  },
  {
   "cell_type": "markdown",
   "metadata": {},
   "source": [
    "## 6. Conclusion\n",
    "\n",
    "Despite the well-known fact that the Titanic dataset only allows for making accurate predictions in a rather limited fashion, it still provides a good base to try out a wide range of techniques. Doing this for personal knowledge building and knowledge fostering was my goal while creating this notebook - and I believe to have succeeded with that quite well overall. "
   ]
  },
  {
   "cell_type": "code",
   "execution_count": null,
   "metadata": {},
   "outputs": [],
   "source": []
  }
 ],
 "metadata": {
  "kernelspec": {
   "display_name": "Python 3",
   "language": "python",
   "name": "python3"
  },
  "language_info": {
   "codemirror_mode": {
    "name": "ipython",
    "version": 3
   },
   "file_extension": ".py",
   "mimetype": "text/x-python",
   "name": "python",
   "nbconvert_exporter": "python",
   "pygments_lexer": "ipython3",
   "version": "3.6.8"
  }
 },
 "nbformat": 4,
 "nbformat_minor": 2
}
